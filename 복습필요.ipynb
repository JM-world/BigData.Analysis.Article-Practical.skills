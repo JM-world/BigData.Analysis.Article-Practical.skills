{
 "cells": [
  {
   "cell_type": "markdown",
   "metadata": {},
   "source": [
    "##### 중요 문법"
   ]
  },
  {
   "cell_type": "code",
   "execution_count": null,
   "metadata": {},
   "outputs": [],
   "source": [
    "'''\n",
    "컬럼명 변경: bread = bread.rename(columns={'상세영업상태코드': '상태코드'})\n",
    "데이트타임 타입으로 변경: \n",
    "1. temp = pd.to_datetime(bread['인허가일자'], format='%Y%m%d')\n",
    "2. temp.dt.month    # dt로 찾아줌\n",
    "'''"
   ]
  },
  {
   "cell_type": "markdown",
   "metadata": {},
   "source": [
    "##### 잊어먹을법한 문법"
   ]
  },
  {
   "cell_type": "code",
   "execution_count": null,
   "metadata": {},
   "outputs": [],
   "source": [
    "'''\n",
    "memory_usage='deep'은 총 메모리 사용량 보는 옵션: df.info(memory_usage='deep')   \n",
    "normalize=True는 각 컬럼끼리 비교하여 비율: df['상세영업상태명'].value_counts(normalize=True)   \n",
    "열과 행 바꾸기 : .T\n",
    "'''"
   ]
  },
  {
   "cell_type": "markdown",
   "metadata": {},
   "source": []
  },
  {
   "cell_type": "code",
   "execution_count": null,
   "metadata": {},
   "outputs": [],
   "source": [
    "'''\n",
    "1. 기존 데이터프레임 안에 인트 타입의 새 컬럼을 만들 때 결측치가 있으면 플롯형태로 된다. [S2-28 11:30]\n",
    "2. .apply 함수 쓰지 않고 loc로도 벨류값 수정 가능. [S2-28]\n",
    "'''"
   ]
  }
 ],
 "metadata": {
  "kernelspec": {
   "display_name": "base",
   "language": "python",
   "name": "python3"
  },
  "language_info": {
   "name": "python",
   "version": "3.11.5"
  }
 },
 "nbformat": 4,
 "nbformat_minor": 2
}
