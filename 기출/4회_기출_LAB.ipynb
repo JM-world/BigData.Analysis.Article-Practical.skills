{
  "nbformat": 4,
  "nbformat_minor": 0,
  "metadata": {
    "colab": {
      "provenance": [],
      "toc_visible": true
    },
    "kernelspec": {
      "name": "python3",
      "display_name": "Python 3"
    },
    "language_info": {
      "name": "python"
    }
  },
  "cells": [
    {
      "cell_type": "markdown",
      "source": [
        "## 2.기출문제 (빅분기 실기 4회)"
      ],
      "metadata": {
        "id": "9wr6snMrGMHo"
      }
    },
    {
      "cell_type": "code",
      "source": [
        "# 데이터 다운로드"
      ],
      "metadata": {
        "id": "dvyzPcRnDb3w"
      },
      "execution_count": null,
      "outputs": []
    },
    {
      "cell_type": "code",
      "source": [
        "!git clone https://github.com/Soyoung-Yoon/bigdata"
      ],
      "metadata": {
        "id": "SqK7UuUrWqfP"
      },
      "execution_count": null,
      "outputs": []
    },
    {
      "cell_type": "markdown",
      "metadata": {
        "id": "XmsDHqDFBzM3"
      },
      "source": [
        "#### 2-1. 신상 데이터\n",
        "age 컬럼에 대해 아래의 과정을 수행하고 (다) 단계의 결과값을 출력하여라.\n",
        "- (가) 제 1사분위수와 제 3사분위수를 구하기\n",
        "- (나) 두 값의 차이 절댓값 구하기\n",
        "- (다) 그 값의 소수점 버리기\n"
      ]
    },
    {
      "cell_type": "code",
      "source": [
        "#'https://raw.githubusercontent.com/Soyoung-Yoon/bigdata/main/basic1_data04.csv'  파일 사용"
      ],
      "metadata": {
        "id": "ttr2QTVbvRMC"
      },
      "execution_count": null,
      "outputs": []
    },
    {
      "cell_type": "code",
      "source": [],
      "metadata": {
        "id": "UQvNfXEgKp6e"
      },
      "execution_count": null,
      "outputs": []
    },
    {
      "cell_type": "markdown",
      "metadata": {
        "id": "Uv_3WUzRCFV0"
      },
      "source": [
        "#### 2-2. Facebook 데이터\n",
        "\n",
        "Facebook 데이터셋을 불러와 (loves반응 + wows반응)/(reactions반응) 비율이 0.4보다 크고 0.5보다 작으면서, type이 'video'인 데이터의 갯수를 구하여라\n",
        "- 'https://raw.githubusercontent.com/Soyoung-Yoon/bigdata/main/fb_data04.csv' 파일 사용"
      ]
    },
    {
      "cell_type": "code",
      "source": [],
      "metadata": {
        "id": "FLkE8PWuwV-I"
      },
      "execution_count": null,
      "outputs": []
    },
    {
      "cell_type": "markdown",
      "metadata": {
        "id": "s0Iohr2QC6As"
      },
      "source": [
        "#### 2-3. 넷플릭스 데이터\n",
        "netflix_subset 데이터셋에서 date_added가 2018년 1월이면서 country가 United Kingdom 단독 제작인 데이터의 개수를 구하여라\n",
        "- 'https://raw.githubusercontent.com/Soyoung-Yoon/bigdata/main/nf_data04.csv' 파일 사용"
      ]
    },
    {
      "cell_type": "code",
      "metadata": {
        "id": "II4-4rISf1Ys"
      },
      "source": [],
      "execution_count": null,
      "outputs": []
    },
    {
      "cell_type": "markdown",
      "metadata": {
        "id": "SxegKonKDHPJ"
      },
      "source": [
        "## 3.기출문제 (빅분기 실기 4회)\n",
        "자동차 시장 세분화\n",
        "- 자동차 회사는 새로운 전략을 수립하기 위해 4개의 시장으로 세분화했습니다.\n",
        "- 기존 고객 분류 자료를 바탕으로 신규 고객이 어떤 분류에 속할지 예측해주세요!\n",
        "- 예측할 값(y): \"Segmentation\" (1,2,3,4)\n",
        "- 평가: Macro f1-score\n",
        "- 제출형식\n",
        "\n",
        "        ID,Segmentation\n",
        "        458989,1\n",
        "        458994,2\n",
        "        459000,3\n",
        "        459003,4"
      ]
    },
    {
      "cell_type": "markdown",
      "source": [
        "- 다음의 데이터 파일 준비를 실행해서 x_train.csv, y_train.csv, x_test.csv 파일을 준비합니다.\n"
      ],
      "metadata": {
        "id": "XegtsURWg8XJ"
      }
    },
    {
      "cell_type": "markdown",
      "metadata": {
        "id": "NCqn_6zOtyXi"
      },
      "source": [
        "### 3-01.데이터 불러오기, 탐색"
      ]
    },
    {
      "cell_type": "code",
      "source": [
        "# 데이터 파일 준비\n",
        "# 그냥 실행해서 사용 파일을 생성하도록 합니다.\n",
        "import pandas as pd\n",
        "\n",
        "train = pd.read_csv('https://raw.githubusercontent.com/Soyoung-Yoon/bigdata/main/train_04.csv')\n",
        "test = pd.read_csv('https://raw.githubusercontent.com/Soyoung-Yoon/bigdata/main/test_04.csv')\n",
        "train.head(2)\n",
        "X_train = train.iloc[:, :-1]\n",
        "Y_train = train[['ID', 'Segmentation']]\n",
        "X_train.to_csv('X_train.csv', index=False)\n",
        "Y_train.to_csv('Y_train.csv', index=False)\n",
        "test.to_csv('X_test.csv', index=False)\n",
        "print('파일을 준비했습니다!  X_train.csv, Y_train.csv, X_test.csv !')"
      ],
      "metadata": {
        "id": "Kbwq4Xf2WiZf",
        "colab": {
          "base_uri": "https://localhost:8080/"
        },
        "outputId": "ba7e2994-c717-4077-d941-8f58166d3202"
      },
      "execution_count": null,
      "outputs": [
        {
          "output_type": "stream",
          "name": "stdout",
          "text": [
            "파일을 준비했습니다!  X_train.csv, Y_train.csv, X_test.csv !\n"
          ]
        }
      ]
    },
    {
      "cell_type": "code",
      "metadata": {
        "id": "ljn7qAfH8uw2"
      },
      "source": [
        "# [0] 사용 라이브러리 import\n",
        "import pandas as pd\n",
        "\n",
        "# 데이타가 많은경우 모두 출력 안되고 ... 으로 생략해서 출력됨.\n",
        "pd.set_option('display.max_rows',500)    #출력할 max row를 지정\n",
        "pd.set_option('display.max_columns',20)  #출력할 max columns를 지정\n",
        "#출력 format 지정 - 소수점아래 2자리까지\n",
        "pd.set_option('display.float_format', '{:.2f}'.format)"
      ],
      "execution_count": null,
      "outputs": []
    },
    {
      "cell_type": "code",
      "source": [
        "# [1] x_train.csv, y_train.csv, x_test.csv 읽어오기\n",
        "X = pd.read_csv('X_train.csv')\n",
        "Y = pd.read_csv('Y_train.csv')\n",
        "X_submission = pd.read_csv('X_test.csv')\n",
        "print(X.shape, Y.shape, X_submission.shape)"
      ],
      "metadata": {
        "id": "mNl3dB0VmMxo",
        "colab": {
          "base_uri": "https://localhost:8080/"
        },
        "outputId": "9e5513e8-1c43-4b35-b49b-b99d1615696e"
      },
      "execution_count": null,
      "outputs": [
        {
          "output_type": "stream",
          "name": "stdout",
          "text": [
            "(6665, 10) (6665, 2) (2154, 10)\n"
          ]
        }
      ]
    },
    {
      "cell_type": "code",
      "source": [
        "\n",
        "\n",
        "\n"
      ],
      "metadata": {
        "id": "4vXO5PnAEGWL"
      },
      "execution_count": null,
      "outputs": []
    }
  ]
}