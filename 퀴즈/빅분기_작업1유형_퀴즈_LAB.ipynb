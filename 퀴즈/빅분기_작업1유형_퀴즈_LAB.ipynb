{
  "nbformat": 4,
  "nbformat_minor": 0,
  "metadata": {
    "colab": {
      "provenance": [],
      "collapsed_sections": [
        "EbWZT1zfgpxc",
        "A9J1Q_E0nXw_",
        "ssjgznLao_rF"
      ]
    },
    "kernelspec": {
      "name": "python3",
      "display_name": "Python 3"
    },
    "language_info": {
      "name": "python"
    }
  },
  "cells": [
    {
      "cell_type": "markdown",
      "source": [
        "### 항공사 탑승객 예약 데이터\n",
        "- 데이터 원본 : https://www.kaggle.com/datasets/manishkumar7432698/airline-passangers-booking-data\n",
        "- 이 데이터 세트는 항공사의 휴일 예약과 관련된 고객의 선호도 및 행동에 대한 포괄적인 정보를 제공합니다.\n",
        "- 이 데이터 세트는 예약 과정의 다양한 측면을 다루는 상세한 속성을 가지고 있어 항공업계의 고객 선택과 패턴을 분석하고 이해하는 데 이상적입니다."
      ],
      "metadata": {
        "id": "GMTDRzeo_qN3"
      }
    },
    {
      "cell_type": "code",
      "execution_count": null,
      "metadata": {
        "colab": {
          "base_uri": "https://localhost:8080/",
          "height": 207
        },
        "id": "gf5FtdVm_gOE",
        "outputId": "d516c504-7f33-4745-d79b-7196c747bdcb"
      },
      "outputs": [
        {
          "output_type": "execute_result",
          "data": {
            "text/plain": [
              "   num_passengers sales_channel  trip_type  purchase_lead  length_of_stay  \\\n",
              "0               1      Internet  RoundTrip             21              12   \n",
              "1               2      Internet  RoundTrip            262              19   \n",
              "2               1      Internet  RoundTrip            112              20   \n",
              "\n",
              "   flight_hour flight_day   route booking_origin  wants_extra_baggage  \\\n",
              "0            6        Tue  AKLHGH      Australia                    0   \n",
              "1            7        Sat  AKLDEL    New Zealand                    1   \n",
              "2            3        Sat  AKLDEL    New Zealand                    0   \n",
              "\n",
              "   wants_preferred_seat  wants_in_flight_meals  flight_duration  \\\n",
              "0                     0                      0             7.21   \n",
              "1                     0                      0             5.52   \n",
              "2                     0                      0             5.52   \n",
              "\n",
              "   booking_complete  \n",
              "0                 1  \n",
              "1                 0  \n",
              "2                 0  "
            ],
            "text/html": [
              "\n",
              "\n",
              "  <div id=\"df-14b79135-1557-4505-8e63-b60afacd271a\">\n",
              "    <div class=\"colab-df-container\">\n",
              "      <div>\n",
              "<style scoped>\n",
              "    .dataframe tbody tr th:only-of-type {\n",
              "        vertical-align: middle;\n",
              "    }\n",
              "\n",
              "    .dataframe tbody tr th {\n",
              "        vertical-align: top;\n",
              "    }\n",
              "\n",
              "    .dataframe thead th {\n",
              "        text-align: right;\n",
              "    }\n",
              "</style>\n",
              "<table border=\"1\" class=\"dataframe\">\n",
              "  <thead>\n",
              "    <tr style=\"text-align: right;\">\n",
              "      <th></th>\n",
              "      <th>num_passengers</th>\n",
              "      <th>sales_channel</th>\n",
              "      <th>trip_type</th>\n",
              "      <th>purchase_lead</th>\n",
              "      <th>length_of_stay</th>\n",
              "      <th>flight_hour</th>\n",
              "      <th>flight_day</th>\n",
              "      <th>route</th>\n",
              "      <th>booking_origin</th>\n",
              "      <th>wants_extra_baggage</th>\n",
              "      <th>wants_preferred_seat</th>\n",
              "      <th>wants_in_flight_meals</th>\n",
              "      <th>flight_duration</th>\n",
              "      <th>booking_complete</th>\n",
              "    </tr>\n",
              "  </thead>\n",
              "  <tbody>\n",
              "    <tr>\n",
              "      <th>0</th>\n",
              "      <td>1</td>\n",
              "      <td>Internet</td>\n",
              "      <td>RoundTrip</td>\n",
              "      <td>21</td>\n",
              "      <td>12</td>\n",
              "      <td>6</td>\n",
              "      <td>Tue</td>\n",
              "      <td>AKLHGH</td>\n",
              "      <td>Australia</td>\n",
              "      <td>0</td>\n",
              "      <td>0</td>\n",
              "      <td>0</td>\n",
              "      <td>7.21</td>\n",
              "      <td>1</td>\n",
              "    </tr>\n",
              "    <tr>\n",
              "      <th>1</th>\n",
              "      <td>2</td>\n",
              "      <td>Internet</td>\n",
              "      <td>RoundTrip</td>\n",
              "      <td>262</td>\n",
              "      <td>19</td>\n",
              "      <td>7</td>\n",
              "      <td>Sat</td>\n",
              "      <td>AKLDEL</td>\n",
              "      <td>New Zealand</td>\n",
              "      <td>1</td>\n",
              "      <td>0</td>\n",
              "      <td>0</td>\n",
              "      <td>5.52</td>\n",
              "      <td>0</td>\n",
              "    </tr>\n",
              "    <tr>\n",
              "      <th>2</th>\n",
              "      <td>1</td>\n",
              "      <td>Internet</td>\n",
              "      <td>RoundTrip</td>\n",
              "      <td>112</td>\n",
              "      <td>20</td>\n",
              "      <td>3</td>\n",
              "      <td>Sat</td>\n",
              "      <td>AKLDEL</td>\n",
              "      <td>New Zealand</td>\n",
              "      <td>0</td>\n",
              "      <td>0</td>\n",
              "      <td>0</td>\n",
              "      <td>5.52</td>\n",
              "      <td>0</td>\n",
              "    </tr>\n",
              "  </tbody>\n",
              "</table>\n",
              "</div>\n",
              "      <button class=\"colab-df-convert\" onclick=\"convertToInteractive('df-14b79135-1557-4505-8e63-b60afacd271a')\"\n",
              "              title=\"Convert this dataframe to an interactive table.\"\n",
              "              style=\"display:none;\">\n",
              "\n",
              "  <svg xmlns=\"http://www.w3.org/2000/svg\" height=\"24px\"viewBox=\"0 0 24 24\"\n",
              "       width=\"24px\">\n",
              "    <path d=\"M0 0h24v24H0V0z\" fill=\"none\"/>\n",
              "    <path d=\"M18.56 5.44l.94 2.06.94-2.06 2.06-.94-2.06-.94-.94-2.06-.94 2.06-2.06.94zm-11 1L8.5 8.5l.94-2.06 2.06-.94-2.06-.94L8.5 2.5l-.94 2.06-2.06.94zm10 10l.94 2.06.94-2.06 2.06-.94-2.06-.94-.94-2.06-.94 2.06-2.06.94z\"/><path d=\"M17.41 7.96l-1.37-1.37c-.4-.4-.92-.59-1.43-.59-.52 0-1.04.2-1.43.59L10.3 9.45l-7.72 7.72c-.78.78-.78 2.05 0 2.83L4 21.41c.39.39.9.59 1.41.59.51 0 1.02-.2 1.41-.59l7.78-7.78 2.81-2.81c.8-.78.8-2.07 0-2.86zM5.41 20L4 18.59l7.72-7.72 1.47 1.35L5.41 20z\"/>\n",
              "  </svg>\n",
              "      </button>\n",
              "\n",
              "\n",
              "\n",
              "    <div id=\"df-4d943cd2-f4da-4751-8dc8-b45239220b53\">\n",
              "      <button class=\"colab-df-quickchart\" onclick=\"quickchart('df-4d943cd2-f4da-4751-8dc8-b45239220b53')\"\n",
              "              title=\"Suggest charts.\"\n",
              "              style=\"display:none;\">\n",
              "\n",
              "<svg xmlns=\"http://www.w3.org/2000/svg\" height=\"24px\"viewBox=\"0 0 24 24\"\n",
              "     width=\"24px\">\n",
              "    <g>\n",
              "        <path d=\"M19 3H5c-1.1 0-2 .9-2 2v14c0 1.1.9 2 2 2h14c1.1 0 2-.9 2-2V5c0-1.1-.9-2-2-2zM9 17H7v-7h2v7zm4 0h-2V7h2v10zm4 0h-2v-4h2v4z\"/>\n",
              "    </g>\n",
              "</svg>\n",
              "      </button>\n",
              "    </div>\n",
              "\n",
              "<style>\n",
              "  .colab-df-quickchart {\n",
              "    background-color: #E8F0FE;\n",
              "    border: none;\n",
              "    border-radius: 50%;\n",
              "    cursor: pointer;\n",
              "    display: none;\n",
              "    fill: #1967D2;\n",
              "    height: 32px;\n",
              "    padding: 0 0 0 0;\n",
              "    width: 32px;\n",
              "  }\n",
              "\n",
              "  .colab-df-quickchart:hover {\n",
              "    background-color: #E2EBFA;\n",
              "    box-shadow: 0px 1px 2px rgba(60, 64, 67, 0.3), 0px 1px 3px 1px rgba(60, 64, 67, 0.15);\n",
              "    fill: #174EA6;\n",
              "  }\n",
              "\n",
              "  [theme=dark] .colab-df-quickchart {\n",
              "    background-color: #3B4455;\n",
              "    fill: #D2E3FC;\n",
              "  }\n",
              "\n",
              "  [theme=dark] .colab-df-quickchart:hover {\n",
              "    background-color: #434B5C;\n",
              "    box-shadow: 0px 1px 3px 1px rgba(0, 0, 0, 0.15);\n",
              "    filter: drop-shadow(0px 1px 2px rgba(0, 0, 0, 0.3));\n",
              "    fill: #FFFFFF;\n",
              "  }\n",
              "</style>\n",
              "\n",
              "    <script>\n",
              "      async function quickchart(key) {\n",
              "        const containerElement = document.querySelector('#' + key);\n",
              "        const charts = await google.colab.kernel.invokeFunction(\n",
              "            'suggestCharts', [key], {});\n",
              "      }\n",
              "    </script>\n",
              "\n",
              "      <script>\n",
              "\n",
              "function displayQuickchartButton(domScope) {\n",
              "  let quickchartButtonEl =\n",
              "    domScope.querySelector('#df-4d943cd2-f4da-4751-8dc8-b45239220b53 button.colab-df-quickchart');\n",
              "  quickchartButtonEl.style.display =\n",
              "    google.colab.kernel.accessAllowed ? 'block' : 'none';\n",
              "}\n",
              "\n",
              "        displayQuickchartButton(document);\n",
              "      </script>\n",
              "      <style>\n",
              "    .colab-df-container {\n",
              "      display:flex;\n",
              "      flex-wrap:wrap;\n",
              "      gap: 12px;\n",
              "    }\n",
              "\n",
              "    .colab-df-convert {\n",
              "      background-color: #E8F0FE;\n",
              "      border: none;\n",
              "      border-radius: 50%;\n",
              "      cursor: pointer;\n",
              "      display: none;\n",
              "      fill: #1967D2;\n",
              "      height: 32px;\n",
              "      padding: 0 0 0 0;\n",
              "      width: 32px;\n",
              "    }\n",
              "\n",
              "    .colab-df-convert:hover {\n",
              "      background-color: #E2EBFA;\n",
              "      box-shadow: 0px 1px 2px rgba(60, 64, 67, 0.3), 0px 1px 3px 1px rgba(60, 64, 67, 0.15);\n",
              "      fill: #174EA6;\n",
              "    }\n",
              "\n",
              "    [theme=dark] .colab-df-convert {\n",
              "      background-color: #3B4455;\n",
              "      fill: #D2E3FC;\n",
              "    }\n",
              "\n",
              "    [theme=dark] .colab-df-convert:hover {\n",
              "      background-color: #434B5C;\n",
              "      box-shadow: 0px 1px 3px 1px rgba(0, 0, 0, 0.15);\n",
              "      filter: drop-shadow(0px 1px 2px rgba(0, 0, 0, 0.3));\n",
              "      fill: #FFFFFF;\n",
              "    }\n",
              "  </style>\n",
              "\n",
              "      <script>\n",
              "        const buttonEl =\n",
              "          document.querySelector('#df-14b79135-1557-4505-8e63-b60afacd271a button.colab-df-convert');\n",
              "        buttonEl.style.display =\n",
              "          google.colab.kernel.accessAllowed ? 'block' : 'none';\n",
              "\n",
              "        async function convertToInteractive(key) {\n",
              "          const element = document.querySelector('#df-14b79135-1557-4505-8e63-b60afacd271a');\n",
              "          const dataTable =\n",
              "            await google.colab.kernel.invokeFunction('convertToInteractive',\n",
              "                                                     [key], {});\n",
              "          if (!dataTable) return;\n",
              "\n",
              "          const docLinkHtml = 'Like what you see? Visit the ' +\n",
              "            '<a target=\"_blank\" href=https://colab.research.google.com/notebooks/data_table.ipynb>data table notebook</a>'\n",
              "            + ' to learn more about interactive tables.';\n",
              "          element.innerHTML = '';\n",
              "          dataTable['output_type'] = 'display_data';\n",
              "          await google.colab.output.renderOutput(dataTable, element);\n",
              "          const docLink = document.createElement('div');\n",
              "          docLink.innerHTML = docLinkHtml;\n",
              "          element.appendChild(docLink);\n",
              "        }\n",
              "      </script>\n",
              "    </div>\n",
              "  </div>\n"
            ]
          },
          "metadata": {},
          "execution_count": 1
        }
      ],
      "source": [
        "import pandas as pd\n",
        "\n",
        "file_url = 'https://raw.githubusercontent.com/Soyoung-Yoon/eduatoz_bigdata/main/Passanger_booking_data.csv'\n",
        "\n",
        "df = pd.read_csv(file_url)\n",
        "df.head(3)"
      ]
    },
    {
      "cell_type": "markdown",
      "source": [
        "#### 퀴즈_01\n",
        "- Passanger_booking_data.csv 의 데이터를 사용하여 풀이하여 주세요!\n",
        "- trip_type 범주별 purchase_lead의 최대 값 중 가장 작은 값을 구하시오."
      ],
      "metadata": {
        "id": "lP8vq1nNO6_U"
      }
    },
    {
      "cell_type": "code",
      "source": [
        "# 여기에 풀이해 보세요!\n"
      ],
      "metadata": {
        "colab": {
          "base_uri": "https://localhost:8080/"
        },
        "id": "aDJDFROdS98-",
        "outputId": "06418993-67a9-4f50-dea4-5f229e479437"
      },
      "execution_count": null,
      "outputs": [
        {
          "output_type": "execute_result",
          "data": {
            "text/plain": [
              "354"
            ]
          },
          "metadata": {},
          "execution_count": 10
        }
      ]
    },
    {
      "cell_type": "markdown",
      "source": [
        "#### 퀴즈_01 (step by step)\n",
        "- trip_type 범주별 purchase_lead의 최대 값 중 가장 작은 값을 구하시오\n",
        "- 제시된 설명을 보면서 순서대로 작업해 봅니다."
      ],
      "metadata": {
        "id": "EMlXai3Fdq5A"
      }
    },
    {
      "cell_type": "markdown",
      "source": [
        "[1] trip_type 범주별 purchase_lead의 최대 값을 구해 max_values 라는 이름을 부여합니다.\n",
        "> DataFrame에서 범주별 특정 컬럼의 통계량을 구하기 위해 DataFrame.groupby 함수를 사용합니다.\n",
        "- DataFame : df\n",
        "- 범주형_변수명 : 'trip_type'\n",
        "- 통계량을_구할_컬럼명 : 'purchase_lead'\n",
        "- 통계함수 : max\n",
        "- 명령_형식 : DataFrame.groupby(범주형_변수명)[통계량을_구할_컬럼명].통계함수()\n",
        "- 결과 type : Series"
      ],
      "metadata": {
        "id": "XGqx8wMIptoU"
      }
    },
    {
      "cell_type": "code",
      "source": [
        "max_values = # 여기에 작업해 보세요!\n",
        "print(max_values)"
      ],
      "metadata": {
        "id": "KlUl-8Htp2xM"
      },
      "execution_count": null,
      "outputs": []
    },
    {
      "cell_type": "markdown",
      "source": [
        "[2] 위에서 구한 max_values에서 가장 작은값을 구하여 result 라는 이름을 부여합니다.\n",
        "> Series에서 최소값을 구하기 위해 min 함수를 사용합니다.\n",
        "- Series : max_values\n",
        "- 통계함수 : min\n",
        "- 명령_형식 : Series.min()\n",
        "- 결과 type : int"
      ],
      "metadata": {
        "id": "xFiPVgIFp5Zb"
      }
    },
    {
      "cell_type": "code",
      "source": [
        "result = # 여기에 작업해 보세요!\n",
        "print(result)"
      ],
      "metadata": {
        "id": "DT0lpSnBd1rt"
      },
      "execution_count": null,
      "outputs": []
    },
    {
      "cell_type": "markdown",
      "source": [
        "#### 퀴즈_02\n",
        "- Passanger_booking_data.csv 의 데이터를 사용하여 풀이하여 주세요!\n",
        "- 요일(flight_day) 별 승객(num_passengers) 의 합계를 구하고, 그 합계가 세 번째로 큰 값을 갖는 요일(flight_day)에 대한 booking_complete가 1인 것의 개수를 구하세요.\n",
        "- 하하하!  복잡하게 만들어 보려고 하니 이상하지만 ^_^  도전입니다."
      ],
      "metadata": {
        "id": "1quUE_tPi3yQ"
      }
    },
    {
      "cell_type": "code",
      "source": [
        "# 여기에 풀이해 보세요!\n",
        "\n"
      ],
      "metadata": {
        "colab": {
          "base_uri": "https://localhost:8080/"
        },
        "id": "2fB3nVWWjBIT",
        "outputId": "33f8e027-dd78-4672-a9cf-0105cd084d7e"
      },
      "execution_count": null,
      "outputs": [
        {
          "output_type": "stream",
          "name": "stdout",
          "text": [
            "1130\n"
          ]
        }
      ]
    },
    {
      "cell_type": "markdown",
      "source": [
        "#### 퀴즈_02 (step by step)"
      ],
      "metadata": {
        "id": "USWYfscNjk8K"
      }
    },
    {
      "cell_type": "markdown",
      "source": [
        "[1] 요일(flight_day) 별 승객(num_passengers) 의 합계를 구해 sum_passengers 라는 이름을 부여합니다.\n",
        "> DataFrame에서 범주별 특정 컬럼의 통계량을 구하기 위해 DataFrame.groupby 함수를 사용합니다.\n",
        "- DataFame : df\n",
        "- 범주형_변수명 : 'flight_day'\n",
        "- 통계량을_구할_컬럼명 : 'num_passengers'\n",
        "- 통계함수 : sum\n",
        "- 명령_형식 : DataFrame.groupby(범주형_변수명)[통계량을_구할_컬럼명].통계함수()\n",
        "- 결과 type : Series"
      ],
      "metadata": {
        "id": "1yzlPYFujszO"
      }
    },
    {
      "cell_type": "code",
      "source": [
        "sum_passengers = # 여기에 작업해 보세요!\n",
        "sum_passengers"
      ],
      "metadata": {
        "colab": {
          "base_uri": "https://localhost:8080/"
        },
        "id": "8z8hthsbjkfB",
        "outputId": "1bc397c9-30bb-4be0-c619-06b279d0cbc8"
      },
      "execution_count": null,
      "outputs": [
        {
          "output_type": "execute_result",
          "data": {
            "text/plain": [
              "flight_day\n",
              "Fri    10528\n",
              "Mon    12933\n",
              "Sat     9387\n",
              "Sun    10842\n",
              "Thu    11699\n",
              "Tue    12056\n",
              "Wed    12121\n",
              "Name: num_passengers, dtype: int64"
            ]
          },
          "metadata": {},
          "execution_count": 3
        }
      ]
    },
    {
      "cell_type": "markdown",
      "source": [
        "[2] sum_passengers를 내림차순 정렬해서 세번째로 큰 값을 갖는 값의 index를 day로 저장합니다.\n",
        "> Series에서 내림차순 정렬은 .sort_values(ascending=False)를 사용합니다. 그리고 그중에서 세 번째로 큰 값은 indexing을 [2]로 해서 구할 수 있으며, 그것의 index를 얻기 위해서는 [[2]].index[0]를 사용합니다.  [2]는 Scalar 이기 때문에 index가 없지만 [[2]]는 Series 이기 때문에 index가 있게 됩니다.\n",
        "- DataFame : df\n",
        "- 범주형_변수명 : 'flight_day'\n",
        "- 통계량을_구할_컬럼명 : 'num_passengers'\n",
        "- 통계함수 : sum\n",
        "- 명령_형식 : DataFrame.groupby(범주형_변수명)[[통계량을_구할_index]].index[0]\n",
        "- 결과 type :  문자열"
      ],
      "metadata": {
        "id": "UOb58YTukLso"
      }
    },
    {
      "cell_type": "code",
      "source": [
        "day = # 여기에 작업해 보세요!\n",
        "print(day)"
      ],
      "metadata": {
        "colab": {
          "base_uri": "https://localhost:8080/"
        },
        "id": "qY2baaHRn_xS",
        "outputId": "46caf653-a20b-455a-f562-c79bc6d2d6ed"
      },
      "execution_count": null,
      "outputs": [
        {
          "output_type": "stream",
          "name": "stdout",
          "text": [
            "Tue\n"
          ]
        }
      ]
    },
    {
      "cell_type": "markdown",
      "source": [
        "[3] df에서 요일('flight_day')이 위에서 구한 day와 같은 것에 대한 'book_complete' 컬럼을 구해 result_series 로 저장합니다.\n",
        "> df.loc[행_indexer, 열_indexer]를 사용하여 구합니다.  \n",
        "> df.loc[요일이 day와 같은 것, 'book_complete']\n",
        "- DataFrame : df\n",
        "- df.loc[행_indexer, 열_indexer] 사용\n",
        "- 행_indexer : df['flight_day'] == day\n",
        "- 열_indexer : 'book_complete'\n",
        "- 명령_형식 : DataFrame.df.loc[행_indexer, 열_indexer]\n",
        "- 결과 type :  Series\n"
      ],
      "metadata": {
        "id": "kZRx5sT5oORl"
      }
    },
    {
      "cell_type": "code",
      "source": [
        "result_series = # 여기에 작업해 보세요!\n",
        "result_series"
      ],
      "metadata": {
        "colab": {
          "base_uri": "https://localhost:8080/"
        },
        "id": "ezp-fEwzoMwC",
        "outputId": "398767d5-8cf0-4c5b-dcdb-19a35ebc8547"
      },
      "execution_count": null,
      "outputs": [
        {
          "output_type": "execute_result",
          "data": {
            "text/plain": [
              "0        1\n",
              "11       0\n",
              "15       0\n",
              "29       0\n",
              "30       0\n",
              "        ..\n",
              "49978    0\n",
              "49979    1\n",
              "49981    0\n",
              "49982    1\n",
              "49985    0\n",
              "Name: booking_complete, Length: 7674, dtype: int64"
            ]
          },
          "metadata": {},
          "execution_count": 6
        }
      ]
    },
    {
      "cell_type": "markdown",
      "source": [
        "[4] result_series에서 1인 값의 개수를 세서 result로 저장합니다.\n",
        "> Series.sum() 을 사용합니다.  \n",
        "- Series : result_series\n",
        "- Series.sum() 사용\n",
        "- 결과 type :  int\n"
      ],
      "metadata": {
        "id": "4OBmS4BapnQb"
      }
    },
    {
      "cell_type": "code",
      "source": [
        "result = # 여기에 작업해 보세요!\n",
        "print(result)"
      ],
      "metadata": {
        "colab": {
          "base_uri": "https://localhost:8080/"
        },
        "id": "sPr-UYkJp-_m",
        "outputId": "5a6b489b-f1e4-463b-caad-6fea65ed7736"
      },
      "execution_count": null,
      "outputs": [
        {
          "output_type": "execute_result",
          "data": {
            "text/plain": [
              "1130"
            ]
          },
          "metadata": {},
          "execution_count": 7
        }
      ]
    },
    {
      "cell_type": "markdown",
      "source": [
        "#### 퀴즈_03\n",
        "- Passanger_booking_data.csv 의 데이터를 사용하여 풀이하여 주세요!\n",
        "- booking_origin 별 length_of_stay의 평균을 구하고, 그 평균값 중 가장 큰 것과 작은 것의 차이값을 구하여 출력하라. (단, 반올림하여 정수로 출력하도록 한다.)"
      ],
      "metadata": {
        "id": "AmHal_IQnqPs"
      }
    },
    {
      "cell_type": "code",
      "source": [
        "# 여기에 풀이해 보세요!\n",
        "\n"
      ],
      "metadata": {
        "colab": {
          "base_uri": "https://localhost:8080/"
        },
        "id": "2GaGZ66KnyiD",
        "outputId": "2bd0ade0-552c-4bce-ea25-c1be304e43b3"
      },
      "execution_count": null,
      "outputs": [
        {
          "output_type": "stream",
          "name": "stdout",
          "text": [
            "86\n"
          ]
        }
      ]
    },
    {
      "cell_type": "code",
      "source": [
        "max_value, min_value = df.groupby('booking_origin')['length_of_stay'].mean().sort_values(ascending=False).agg(['max', 'min'])\n",
        "result = max_value - min_value\n",
        "print(round(result))"
      ],
      "metadata": {
        "id": "MxsITZqapmbr"
      },
      "execution_count": null,
      "outputs": []
    },
    {
      "cell_type": "markdown",
      "source": [
        "#### 퀴즈_03 (step by step)"
      ],
      "metadata": {
        "id": "y0fn4kQ3q3oH"
      }
    },
    {
      "cell_type": "markdown",
      "source": [
        "[1] booking_origin 별 length_of_stay의 평균을 구해 mean_length_of_stay 라는 이름을 부여합니다.\n",
        "> DataFrame에서 범주별 특정 컬럼의 통계량을 구하기 위해 DataFrame.groupby 함수를 사용합니다.\n",
        "- DataFame : df\n",
        "- 범주형_변수명 : 'flight_day'\n",
        "- 통계량을_구할_컬럼명 : 'num_passengers'\n",
        "- 통계함수 : sum\n",
        "- 명령_형식 : DataFrame.groupby(범주형_변수명)[통계량을_구할_컬럼명].통계함수()\n",
        "- 결과 type : Series"
      ],
      "metadata": {
        "id": "jpTQ5Trdq9v4"
      }
    },
    {
      "cell_type": "markdown",
      "source": [
        "여기까지 의견\n",
        "- 문제지, 답지 분리 - OK\n",
        "- 난이도 유지 - OK\n",
        "- 단계별 type 설명 필요"
      ],
      "metadata": {
        "id": "gA-_TN8um-oQ"
      }
    },
    {
      "cell_type": "markdown",
      "source": [
        "아래는 앞으로 작업해 나갈 부분들입니다."
      ],
      "metadata": {
        "id": "Hly-2YgOiceo"
      }
    },
    {
      "cell_type": "markdown",
      "source": [
        "#### 퀴즈_04\n",
        "- Passanger_booking_data.csv 의 데이터를 사용하여 풀이하여 주세요!\n",
        "- booking_origin 별 length_of_stay의 평균을 구하고, 그 평균값 중 가장 큰 것과 작은 것의 차이값을 구하여 출력하라. (단, 반올림하여 정수로 출력하도록 한다.)"
      ],
      "metadata": {
        "id": "G04ououtKdC9"
      }
    },
    {
      "cell_type": "code",
      "source": [
        "import pandas as pd\n",
        "\n",
        "file_url = 'https://raw.githubusercontent.com/Soyoung-Yoon/eduatoz_bigdata/main/Passanger_booking_data.csv'\n",
        "\n",
        "df = pd.read_csv(file_url)\n",
        "df.head(3)"
      ],
      "metadata": {
        "colab": {
          "base_uri": "https://localhost:8080/",
          "height": 207
        },
        "id": "u1ok9neOKoD5",
        "outputId": "8b5800a4-e7e8-4d45-f425-748d9a98715b"
      },
      "execution_count": null,
      "outputs": [
        {
          "output_type": "execute_result",
          "data": {
            "text/plain": [
              "   num_passengers sales_channel  trip_type  purchase_lead  length_of_stay  \\\n",
              "0               1      Internet  RoundTrip             21              12   \n",
              "1               2      Internet  RoundTrip            262              19   \n",
              "2               1      Internet  RoundTrip            112              20   \n",
              "\n",
              "   flight_hour flight_day   route booking_origin  wants_extra_baggage  \\\n",
              "0            6        Tue  AKLHGH      Australia                    0   \n",
              "1            7        Sat  AKLDEL    New Zealand                    1   \n",
              "2            3        Sat  AKLDEL    New Zealand                    0   \n",
              "\n",
              "   wants_preferred_seat  wants_in_flight_meals  flight_duration  \\\n",
              "0                     0                      0             7.21   \n",
              "1                     0                      0             5.52   \n",
              "2                     0                      0             5.52   \n",
              "\n",
              "   booking_complete  \n",
              "0                 1  \n",
              "1                 0  \n",
              "2                 0  "
            ],
            "text/html": [
              "\n",
              "\n",
              "  <div id=\"df-3c529e32-7c52-4cd4-9d48-50f41cb6fca8\">\n",
              "    <div class=\"colab-df-container\">\n",
              "      <div>\n",
              "<style scoped>\n",
              "    .dataframe tbody tr th:only-of-type {\n",
              "        vertical-align: middle;\n",
              "    }\n",
              "\n",
              "    .dataframe tbody tr th {\n",
              "        vertical-align: top;\n",
              "    }\n",
              "\n",
              "    .dataframe thead th {\n",
              "        text-align: right;\n",
              "    }\n",
              "</style>\n",
              "<table border=\"1\" class=\"dataframe\">\n",
              "  <thead>\n",
              "    <tr style=\"text-align: right;\">\n",
              "      <th></th>\n",
              "      <th>num_passengers</th>\n",
              "      <th>sales_channel</th>\n",
              "      <th>trip_type</th>\n",
              "      <th>purchase_lead</th>\n",
              "      <th>length_of_stay</th>\n",
              "      <th>flight_hour</th>\n",
              "      <th>flight_day</th>\n",
              "      <th>route</th>\n",
              "      <th>booking_origin</th>\n",
              "      <th>wants_extra_baggage</th>\n",
              "      <th>wants_preferred_seat</th>\n",
              "      <th>wants_in_flight_meals</th>\n",
              "      <th>flight_duration</th>\n",
              "      <th>booking_complete</th>\n",
              "    </tr>\n",
              "  </thead>\n",
              "  <tbody>\n",
              "    <tr>\n",
              "      <th>0</th>\n",
              "      <td>1</td>\n",
              "      <td>Internet</td>\n",
              "      <td>RoundTrip</td>\n",
              "      <td>21</td>\n",
              "      <td>12</td>\n",
              "      <td>6</td>\n",
              "      <td>Tue</td>\n",
              "      <td>AKLHGH</td>\n",
              "      <td>Australia</td>\n",
              "      <td>0</td>\n",
              "      <td>0</td>\n",
              "      <td>0</td>\n",
              "      <td>7.21</td>\n",
              "      <td>1</td>\n",
              "    </tr>\n",
              "    <tr>\n",
              "      <th>1</th>\n",
              "      <td>2</td>\n",
              "      <td>Internet</td>\n",
              "      <td>RoundTrip</td>\n",
              "      <td>262</td>\n",
              "      <td>19</td>\n",
              "      <td>7</td>\n",
              "      <td>Sat</td>\n",
              "      <td>AKLDEL</td>\n",
              "      <td>New Zealand</td>\n",
              "      <td>1</td>\n",
              "      <td>0</td>\n",
              "      <td>0</td>\n",
              "      <td>5.52</td>\n",
              "      <td>0</td>\n",
              "    </tr>\n",
              "    <tr>\n",
              "      <th>2</th>\n",
              "      <td>1</td>\n",
              "      <td>Internet</td>\n",
              "      <td>RoundTrip</td>\n",
              "      <td>112</td>\n",
              "      <td>20</td>\n",
              "      <td>3</td>\n",
              "      <td>Sat</td>\n",
              "      <td>AKLDEL</td>\n",
              "      <td>New Zealand</td>\n",
              "      <td>0</td>\n",
              "      <td>0</td>\n",
              "      <td>0</td>\n",
              "      <td>5.52</td>\n",
              "      <td>0</td>\n",
              "    </tr>\n",
              "  </tbody>\n",
              "</table>\n",
              "</div>\n",
              "      <button class=\"colab-df-convert\" onclick=\"convertToInteractive('df-3c529e32-7c52-4cd4-9d48-50f41cb6fca8')\"\n",
              "              title=\"Convert this dataframe to an interactive table.\"\n",
              "              style=\"display:none;\">\n",
              "\n",
              "  <svg xmlns=\"http://www.w3.org/2000/svg\" height=\"24px\"viewBox=\"0 0 24 24\"\n",
              "       width=\"24px\">\n",
              "    <path d=\"M0 0h24v24H0V0z\" fill=\"none\"/>\n",
              "    <path d=\"M18.56 5.44l.94 2.06.94-2.06 2.06-.94-2.06-.94-.94-2.06-.94 2.06-2.06.94zm-11 1L8.5 8.5l.94-2.06 2.06-.94-2.06-.94L8.5 2.5l-.94 2.06-2.06.94zm10 10l.94 2.06.94-2.06 2.06-.94-2.06-.94-.94-2.06-.94 2.06-2.06.94z\"/><path d=\"M17.41 7.96l-1.37-1.37c-.4-.4-.92-.59-1.43-.59-.52 0-1.04.2-1.43.59L10.3 9.45l-7.72 7.72c-.78.78-.78 2.05 0 2.83L4 21.41c.39.39.9.59 1.41.59.51 0 1.02-.2 1.41-.59l7.78-7.78 2.81-2.81c.8-.78.8-2.07 0-2.86zM5.41 20L4 18.59l7.72-7.72 1.47 1.35L5.41 20z\"/>\n",
              "  </svg>\n",
              "      </button>\n",
              "\n",
              "\n",
              "\n",
              "    <div id=\"df-956deed9-c1cf-4f6d-a079-ad929b751670\">\n",
              "      <button class=\"colab-df-quickchart\" onclick=\"quickchart('df-956deed9-c1cf-4f6d-a079-ad929b751670')\"\n",
              "              title=\"Suggest charts.\"\n",
              "              style=\"display:none;\">\n",
              "\n",
              "<svg xmlns=\"http://www.w3.org/2000/svg\" height=\"24px\"viewBox=\"0 0 24 24\"\n",
              "     width=\"24px\">\n",
              "    <g>\n",
              "        <path d=\"M19 3H5c-1.1 0-2 .9-2 2v14c0 1.1.9 2 2 2h14c1.1 0 2-.9 2-2V5c0-1.1-.9-2-2-2zM9 17H7v-7h2v7zm4 0h-2V7h2v10zm4 0h-2v-4h2v4z\"/>\n",
              "    </g>\n",
              "</svg>\n",
              "      </button>\n",
              "    </div>\n",
              "\n",
              "<style>\n",
              "  .colab-df-quickchart {\n",
              "    background-color: #E8F0FE;\n",
              "    border: none;\n",
              "    border-radius: 50%;\n",
              "    cursor: pointer;\n",
              "    display: none;\n",
              "    fill: #1967D2;\n",
              "    height: 32px;\n",
              "    padding: 0 0 0 0;\n",
              "    width: 32px;\n",
              "  }\n",
              "\n",
              "  .colab-df-quickchart:hover {\n",
              "    background-color: #E2EBFA;\n",
              "    box-shadow: 0px 1px 2px rgba(60, 64, 67, 0.3), 0px 1px 3px 1px rgba(60, 64, 67, 0.15);\n",
              "    fill: #174EA6;\n",
              "  }\n",
              "\n",
              "  [theme=dark] .colab-df-quickchart {\n",
              "    background-color: #3B4455;\n",
              "    fill: #D2E3FC;\n",
              "  }\n",
              "\n",
              "  [theme=dark] .colab-df-quickchart:hover {\n",
              "    background-color: #434B5C;\n",
              "    box-shadow: 0px 1px 3px 1px rgba(0, 0, 0, 0.15);\n",
              "    filter: drop-shadow(0px 1px 2px rgba(0, 0, 0, 0.3));\n",
              "    fill: #FFFFFF;\n",
              "  }\n",
              "</style>\n",
              "\n",
              "    <script>\n",
              "      async function quickchart(key) {\n",
              "        const containerElement = document.querySelector('#' + key);\n",
              "        const charts = await google.colab.kernel.invokeFunction(\n",
              "            'suggestCharts', [key], {});\n",
              "      }\n",
              "    </script>\n",
              "\n",
              "      <script>\n",
              "\n",
              "function displayQuickchartButton(domScope) {\n",
              "  let quickchartButtonEl =\n",
              "    domScope.querySelector('#df-956deed9-c1cf-4f6d-a079-ad929b751670 button.colab-df-quickchart');\n",
              "  quickchartButtonEl.style.display =\n",
              "    google.colab.kernel.accessAllowed ? 'block' : 'none';\n",
              "}\n",
              "\n",
              "        displayQuickchartButton(document);\n",
              "      </script>\n",
              "      <style>\n",
              "    .colab-df-container {\n",
              "      display:flex;\n",
              "      flex-wrap:wrap;\n",
              "      gap: 12px;\n",
              "    }\n",
              "\n",
              "    .colab-df-convert {\n",
              "      background-color: #E8F0FE;\n",
              "      border: none;\n",
              "      border-radius: 50%;\n",
              "      cursor: pointer;\n",
              "      display: none;\n",
              "      fill: #1967D2;\n",
              "      height: 32px;\n",
              "      padding: 0 0 0 0;\n",
              "      width: 32px;\n",
              "    }\n",
              "\n",
              "    .colab-df-convert:hover {\n",
              "      background-color: #E2EBFA;\n",
              "      box-shadow: 0px 1px 2px rgba(60, 64, 67, 0.3), 0px 1px 3px 1px rgba(60, 64, 67, 0.15);\n",
              "      fill: #174EA6;\n",
              "    }\n",
              "\n",
              "    [theme=dark] .colab-df-convert {\n",
              "      background-color: #3B4455;\n",
              "      fill: #D2E3FC;\n",
              "    }\n",
              "\n",
              "    [theme=dark] .colab-df-convert:hover {\n",
              "      background-color: #434B5C;\n",
              "      box-shadow: 0px 1px 3px 1px rgba(0, 0, 0, 0.15);\n",
              "      filter: drop-shadow(0px 1px 2px rgba(0, 0, 0, 0.3));\n",
              "      fill: #FFFFFF;\n",
              "    }\n",
              "  </style>\n",
              "\n",
              "      <script>\n",
              "        const buttonEl =\n",
              "          document.querySelector('#df-3c529e32-7c52-4cd4-9d48-50f41cb6fca8 button.colab-df-convert');\n",
              "        buttonEl.style.display =\n",
              "          google.colab.kernel.accessAllowed ? 'block' : 'none';\n",
              "\n",
              "        async function convertToInteractive(key) {\n",
              "          const element = document.querySelector('#df-3c529e32-7c52-4cd4-9d48-50f41cb6fca8');\n",
              "          const dataTable =\n",
              "            await google.colab.kernel.invokeFunction('convertToInteractive',\n",
              "                                                     [key], {});\n",
              "          if (!dataTable) return;\n",
              "\n",
              "          const docLinkHtml = 'Like what you see? Visit the ' +\n",
              "            '<a target=\"_blank\" href=https://colab.research.google.com/notebooks/data_table.ipynb>data table notebook</a>'\n",
              "            + ' to learn more about interactive tables.';\n",
              "          element.innerHTML = '';\n",
              "          dataTable['output_type'] = 'display_data';\n",
              "          await google.colab.output.renderOutput(dataTable, element);\n",
              "          const docLink = document.createElement('div');\n",
              "          docLink.innerHTML = docLinkHtml;\n",
              "          element.appendChild(docLink);\n",
              "        }\n",
              "      </script>\n",
              "    </div>\n",
              "  </div>\n"
            ]
          },
          "metadata": {},
          "execution_count": 1
        }
      ]
    },
    {
      "cell_type": "code",
      "source": [
        "# [1] booking_origin 변수의 범주 종류를 확인해 봅니다.\n",
        "df['booking_origin'].unique()"
      ],
      "metadata": {
        "colab": {
          "base_uri": "https://localhost:8080/"
        },
        "id": "6uCnwTbNKq0i",
        "outputId": "ab43f49e-aed6-45e3-e79e-4dfd7259233d"
      },
      "execution_count": null,
      "outputs": [
        {
          "output_type": "execute_result",
          "data": {
            "text/plain": [
              "(104,)"
            ]
          },
          "metadata": {},
          "execution_count": 4
        }
      ]
    },
    {
      "cell_type": "code",
      "source": [
        "df['purchase_lead']"
      ],
      "metadata": {
        "colab": {
          "base_uri": "https://localhost:8080/"
        },
        "id": "2H2RKz-udjVe",
        "outputId": "54761c66-9fdc-4c46-9aa9-be3b9c75321d"
      },
      "execution_count": null,
      "outputs": [
        {
          "output_type": "execute_result",
          "data": {
            "text/plain": [
              "0         21\n",
              "1        262\n",
              "2        112\n",
              "3        243\n",
              "4         96\n",
              "        ... \n",
              "49997     27\n",
              "49998    111\n",
              "49999     24\n",
              "50000     15\n",
              "50001     19\n",
              "Name: purchase_lead, Length: 50002, dtype: int64"
            ]
          },
          "metadata": {},
          "execution_count": 5
        }
      ]
    }
  ]
}