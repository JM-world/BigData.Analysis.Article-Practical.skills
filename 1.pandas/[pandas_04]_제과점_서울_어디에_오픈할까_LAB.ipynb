{
  "cells": [
    {
      "cell_type": "markdown",
      "metadata": {
        "id": "vwBqwrVA-m2T"
      },
      "source": [
        "## 1.파일 다운로드"
      ]
    },
    {
      "cell_type": "code",
      "execution_count": 289,
      "metadata": {
        "colab": {
          "base_uri": "https://localhost:8080/"
        },
        "id": "DF4tkQEg-iVL",
        "outputId": "0f363e12-cc61-435d-fd22-2e83c83a0e8d"
      },
      "outputs": [],
      "source": [
        "#!git clone https://github.com/Soyoung-Yoon/data_03"
      ]
    },
    {
      "cell_type": "markdown",
      "metadata": {
        "id": "zfb0qkWpO7IV"
      },
      "source": [
        "## 2.Colab에서 한글 폰트 사용하기"
      ]
    },
    {
      "cell_type": "markdown",
      "metadata": {
        "id": "MuuEZfEi_diS"
      },
      "source": [
        "## 3.제과점 오픈 프로젝트"
      ]
    },
    {
      "cell_type": "code",
      "execution_count": 290,
      "metadata": {
        "id": "xbjiSFbaqRE8"
      },
      "outputs": [],
      "source": [
        "# [4-0] 사용라이브러리 import\n",
        "import pandas as pd\n",
        "import matplotlib.pyplot as plt\n",
        "import seaborn as sns"
      ]
    },
    {
      "cell_type": "markdown",
      "metadata": {
        "id": "MNGmMUpenWGe"
      },
      "source": [
        "### 3-1.파일 읽어오기\n",
        "- csv 파일 : pd.read_csv('파일이름', encoding='cp949', low_memory=False)\n",
        "   - encoding='cp949' : 한글이 포함되어 있는 경우 encoding 방식을 지정\n",
        "   - low_memory=False : column에 여러 type의 데이터가 섞여 있으면 DtypeWarning이 발생하며 이때, dtype option으로 타입을 명시해주거나 low_memory=False를 사용한다.\n"
      ]
    },
    {
      "cell_type": "code",
      "execution_count": 291,
      "metadata": {
        "id": "UpBj0jvsqf7R"
      },
      "outputs": [
        {
          "data": {
            "text/html": [
              "<div>\n",
              "<style scoped>\n",
              "    .dataframe tbody tr th:only-of-type {\n",
              "        vertical-align: middle;\n",
              "    }\n",
              "\n",
              "    .dataframe tbody tr th {\n",
              "        vertical-align: top;\n",
              "    }\n",
              "\n",
              "    .dataframe thead th {\n",
              "        text-align: right;\n",
              "    }\n",
              "</style>\n",
              "<table border=\"1\" class=\"dataframe\">\n",
              "  <thead>\n",
              "    <tr style=\"text-align: right;\">\n",
              "      <th></th>\n",
              "      <th>번호</th>\n",
              "      <th>개방서비스명</th>\n",
              "      <th>개방서비스id</th>\n",
              "      <th>개방자치단체코드</th>\n",
              "      <th>관리번호</th>\n",
              "      <th>인허가일자</th>\n",
              "      <th>인허가취소일자</th>\n",
              "      <th>영업상태구분코드</th>\n",
              "      <th>영업상태명</th>\n",
              "      <th>상세영업상태코드</th>\n",
              "      <th>...</th>\n",
              "      <th>공장생산직종업원수</th>\n",
              "      <th>건물소유구분명</th>\n",
              "      <th>보증액</th>\n",
              "      <th>월세액</th>\n",
              "      <th>다중이용업소여부</th>\n",
              "      <th>시설총규모</th>\n",
              "      <th>전통업소지정번호</th>\n",
              "      <th>전통업소주된음식</th>\n",
              "      <th>홈페이지</th>\n",
              "      <th>Unnamed: 47</th>\n",
              "    </tr>\n",
              "  </thead>\n",
              "  <tbody>\n",
              "    <tr>\n",
              "      <th>0</th>\n",
              "      <td>1</td>\n",
              "      <td>제과점영업</td>\n",
              "      <td>07_22_18_P</td>\n",
              "      <td>3600000</td>\n",
              "      <td>3600000-121-2013-00002</td>\n",
              "      <td>20130201</td>\n",
              "      <td>NaN</td>\n",
              "      <td>1</td>\n",
              "      <td>영업/정상</td>\n",
              "      <td>1</td>\n",
              "      <td>...</td>\n",
              "      <td>NaN</td>\n",
              "      <td>NaN</td>\n",
              "      <td>NaN</td>\n",
              "      <td>NaN</td>\n",
              "      <td>N</td>\n",
              "      <td>146.4</td>\n",
              "      <td>NaN</td>\n",
              "      <td>NaN</td>\n",
              "      <td>NaN</td>\n",
              "      <td>NaN</td>\n",
              "    </tr>\n",
              "  </tbody>\n",
              "</table>\n",
              "<p>1 rows × 48 columns</p>\n",
              "</div>"
            ],
            "text/plain": [
              "   번호 개방서비스명     개방서비스id  개방자치단체코드                    관리번호     인허가일자  인허가취소일자  \\\n",
              "0   1  제과점영업  07_22_18_P   3600000  3600000-121-2013-00002  20130201      NaN   \n",
              "\n",
              "   영업상태구분코드  영업상태명  상세영업상태코드  ... 공장생산직종업원수  건물소유구분명  보증액  월세액  다중이용업소여부  \\\n",
              "0         1  영업/정상         1  ...       NaN      NaN  NaN  NaN         N   \n",
              "\n",
              "   시설총규모 전통업소지정번호  전통업소주된음식 홈페이지 Unnamed: 47  \n",
              "0  146.4      NaN       NaN  NaN         NaN  \n",
              "\n",
              "[1 rows x 48 columns]"
            ]
          },
          "execution_count": 291,
          "metadata": {},
          "output_type": "execute_result"
        }
      ],
      "source": [
        "# [4-1] 제과점에 대한 파일 './data_03/bread_data.csv'을\n",
        "# encoding='cp949' 를 사용하여 읽어와 df라는 이름을 붙인다\n",
        "# low_memory=False 또는 dtype={'건물소유구분명': object, '전통업소지정번호': object}를 사용하여 Warning를 제거할 수 있음\n",
        "\n",
        "df = pd.read_csv('data_03/bread_data.csv', encoding='cp949', low_memory=False)\n",
        "df.head(1)"
      ]
    },
    {
      "cell_type": "code",
      "execution_count": 292,
      "metadata": {},
      "outputs": [
        {
          "data": {
            "text/html": [
              "<div>\n",
              "<style scoped>\n",
              "    .dataframe tbody tr th:only-of-type {\n",
              "        vertical-align: middle;\n",
              "    }\n",
              "\n",
              "    .dataframe tbody tr th {\n",
              "        vertical-align: top;\n",
              "    }\n",
              "\n",
              "    .dataframe thead th {\n",
              "        text-align: right;\n",
              "    }\n",
              "</style>\n",
              "<table border=\"1\" class=\"dataframe\">\n",
              "  <thead>\n",
              "    <tr style=\"text-align: right;\">\n",
              "      <th></th>\n",
              "      <th>index</th>\n",
              "      <th>0</th>\n",
              "    </tr>\n",
              "  </thead>\n",
              "  <tbody>\n",
              "    <tr>\n",
              "      <th>0</th>\n",
              "      <td>번호</td>\n",
              "      <td>int64</td>\n",
              "    </tr>\n",
              "    <tr>\n",
              "      <th>1</th>\n",
              "      <td>개방서비스명</td>\n",
              "      <td>object</td>\n",
              "    </tr>\n",
              "    <tr>\n",
              "      <th>2</th>\n",
              "      <td>개방서비스id</td>\n",
              "      <td>object</td>\n",
              "    </tr>\n",
              "    <tr>\n",
              "      <th>3</th>\n",
              "      <td>개방자치단체코드</td>\n",
              "      <td>int64</td>\n",
              "    </tr>\n",
              "    <tr>\n",
              "      <th>4</th>\n",
              "      <td>관리번호</td>\n",
              "      <td>object</td>\n",
              "    </tr>\n",
              "  </tbody>\n",
              "</table>\n",
              "</div>"
            ],
            "text/plain": [
              "      index       0\n",
              "0        번호   int64\n",
              "1    개방서비스명  object\n",
              "2   개방서비스id  object\n",
              "3  개방자치단체코드   int64\n",
              "4      관리번호  object"
            ]
          },
          "execution_count": 292,
          "metadata": {},
          "output_type": "execute_result"
        }
      ],
      "source": [
        "df.dtypes.to_frame().reset_index().head()"
      ]
    },
    {
      "cell_type": "markdown",
      "metadata": {
        "id": "EPqAgfCarnoS"
      },
      "source": [
        "### 3-2.데이터 구조 확인\n",
        "- DataFrame.shape : 데이터 프레임의 행, 열의 수를 tuple로 반환\n",
        "- DataFrame.head(n=5) : 처음부터 n개 행의 데이터 가져오기\n",
        "- DataFrame.tail(n=5) : 마지막 n개 행의 데이터 가져오기\n",
        "- DataFrame.info(memory_usage='deep') : 데이터 프레임의 row 개수 및 각 column의 Non null, dtype 정보 및 메모리 사용량을 확인함"
      ]
    },
    {
      "cell_type": "code",
      "execution_count": 293,
      "metadata": {
        "id": "yUbJt5VYq4iP"
      },
      "outputs": [
        {
          "data": {
            "text/plain": [
              "(52680, 48)"
            ]
          },
          "execution_count": 293,
          "metadata": {},
          "output_type": "execute_result"
        }
      ],
      "source": [
        "# [4-2] df의 행, 열의 개수를 확인한다\n",
        "df.shape"
      ]
    },
    {
      "cell_type": "code",
      "execution_count": 294,
      "metadata": {
        "id": "b77flU7HrVxi"
      },
      "outputs": [
        {
          "data": {
            "text/html": [
              "<div>\n",
              "<style scoped>\n",
              "    .dataframe tbody tr th:only-of-type {\n",
              "        vertical-align: middle;\n",
              "    }\n",
              "\n",
              "    .dataframe tbody tr th {\n",
              "        vertical-align: top;\n",
              "    }\n",
              "\n",
              "    .dataframe thead th {\n",
              "        text-align: right;\n",
              "    }\n",
              "</style>\n",
              "<table border=\"1\" class=\"dataframe\">\n",
              "  <thead>\n",
              "    <tr style=\"text-align: right;\">\n",
              "      <th></th>\n",
              "      <th>번호</th>\n",
              "      <th>개방서비스명</th>\n",
              "      <th>개방서비스id</th>\n",
              "      <th>개방자치단체코드</th>\n",
              "      <th>관리번호</th>\n",
              "      <th>인허가일자</th>\n",
              "      <th>인허가취소일자</th>\n",
              "      <th>영업상태구분코드</th>\n",
              "      <th>영업상태명</th>\n",
              "      <th>상세영업상태코드</th>\n",
              "      <th>...</th>\n",
              "      <th>공장생산직종업원수</th>\n",
              "      <th>건물소유구분명</th>\n",
              "      <th>보증액</th>\n",
              "      <th>월세액</th>\n",
              "      <th>다중이용업소여부</th>\n",
              "      <th>시설총규모</th>\n",
              "      <th>전통업소지정번호</th>\n",
              "      <th>전통업소주된음식</th>\n",
              "      <th>홈페이지</th>\n",
              "      <th>Unnamed: 47</th>\n",
              "    </tr>\n",
              "  </thead>\n",
              "  <tbody>\n",
              "    <tr>\n",
              "      <th>0</th>\n",
              "      <td>1</td>\n",
              "      <td>제과점영업</td>\n",
              "      <td>07_22_18_P</td>\n",
              "      <td>3600000</td>\n",
              "      <td>3600000-121-2013-00002</td>\n",
              "      <td>20130201</td>\n",
              "      <td>NaN</td>\n",
              "      <td>1</td>\n",
              "      <td>영업/정상</td>\n",
              "      <td>1</td>\n",
              "      <td>...</td>\n",
              "      <td>NaN</td>\n",
              "      <td>NaN</td>\n",
              "      <td>NaN</td>\n",
              "      <td>NaN</td>\n",
              "      <td>N</td>\n",
              "      <td>146.4</td>\n",
              "      <td>NaN</td>\n",
              "      <td>NaN</td>\n",
              "      <td>NaN</td>\n",
              "      <td>NaN</td>\n",
              "    </tr>\n",
              "  </tbody>\n",
              "</table>\n",
              "<p>1 rows × 48 columns</p>\n",
              "</div>"
            ],
            "text/plain": [
              "   번호 개방서비스명     개방서비스id  개방자치단체코드                    관리번호     인허가일자  인허가취소일자  \\\n",
              "0   1  제과점영업  07_22_18_P   3600000  3600000-121-2013-00002  20130201      NaN   \n",
              "\n",
              "   영업상태구분코드  영업상태명  상세영업상태코드  ... 공장생산직종업원수  건물소유구분명  보증액  월세액  다중이용업소여부  \\\n",
              "0         1  영업/정상         1  ...       NaN      NaN  NaN  NaN         N   \n",
              "\n",
              "   시설총규모 전통업소지정번호  전통업소주된음식 홈페이지 Unnamed: 47  \n",
              "0  146.4      NaN       NaN  NaN         NaN  \n",
              "\n",
              "[1 rows x 48 columns]"
            ]
          },
          "execution_count": 294,
          "metadata": {},
          "output_type": "execute_result"
        }
      ],
      "source": [
        "# [4-3] df의 첫 1개 열을 출력해 확인한다\n",
        "df.head(1)"
      ]
    },
    {
      "cell_type": "code",
      "execution_count": 295,
      "metadata": {
        "id": "bw11XNypyX-U"
      },
      "outputs": [
        {
          "name": "stdout",
          "output_type": "stream",
          "text": [
            "<class 'pandas.core.frame.DataFrame'>\n",
            "RangeIndex: 52680 entries, 0 to 52679\n",
            "Data columns (total 48 columns):\n",
            " #   Column       Non-Null Count  Dtype  \n",
            "---  ------       --------------  -----  \n",
            " 0   번호           52680 non-null  int64  \n",
            " 1   개방서비스명       52680 non-null  object \n",
            " 2   개방서비스id      52680 non-null  object \n",
            " 3   개방자치단체코드     52680 non-null  int64  \n",
            " 4   관리번호         52680 non-null  object \n",
            " 5   인허가일자        52680 non-null  int64  \n",
            " 6   인허가취소일자      0 non-null      float64\n",
            " 7   영업상태구분코드     52680 non-null  int64  \n",
            " 8   영업상태명        52680 non-null  object \n",
            " 9   상세영업상태코드     52680 non-null  int64  \n",
            " 10  상세영업상태명      52680 non-null  object \n",
            " 11  폐업일자         33669 non-null  float64\n",
            " 12  휴업시작일자       0 non-null      float64\n",
            " 13  휴업종료일자       0 non-null      float64\n",
            " 14  재개업일자        0 non-null      float64\n",
            " 15  소재지전화        31967 non-null  object \n",
            " 16  소재지면적        49047 non-null  object \n",
            " 17  소재지우편번호      50885 non-null  float64\n",
            " 18  소재지전체주소      52513 non-null  object \n",
            " 19  도로명전체주소      36164 non-null  object \n",
            " 20  도로명우편번호      35635 non-null  float64\n",
            " 21  사업장명         52680 non-null  object \n",
            " 22  최종수정시점       52680 non-null  int64  \n",
            " 23  데이터갱신구분      52680 non-null  object \n",
            " 24  데이터갱신일자      52680 non-null  object \n",
            " 25  업태구분명        52674 non-null  object \n",
            " 26  좌표정보(x)      50416 non-null  float64\n",
            " 27  좌표정보(y)      50416 non-null  float64\n",
            " 28  위생업태명        52674 non-null  object \n",
            " 29  남성종사자수       20271 non-null  float64\n",
            " 30  여성종사자수       20497 non-null  float64\n",
            " 31  영업장주변구분명     16935 non-null  object \n",
            " 32  등급구분명        7430 non-null   object \n",
            " 33  급수시설구분명      32427 non-null  object \n",
            " 34  총종업원수        1003 non-null   float64\n",
            " 35  본사종업원수       1838 non-null   float64\n",
            " 36  공장사무직종업원수    1838 non-null   float64\n",
            " 37  공장판매직종업원수    1838 non-null   float64\n",
            " 38  공장생산직종업원수    1838 non-null   float64\n",
            " 39  건물소유구분명      9 non-null      object \n",
            " 40  보증액          1836 non-null   float64\n",
            " 41  월세액          1836 non-null   float64\n",
            " 42  다중이용업소여부     52680 non-null  object \n",
            " 43  시설총규모        52680 non-null  float64\n",
            " 44  전통업소지정번호     64 non-null     object \n",
            " 45  전통업소주된음식     0 non-null      float64\n",
            " 46  홈페이지         0 non-null      float64\n",
            " 47  Unnamed: 47  0 non-null      float64\n",
            "dtypes: float64(22), int64(6), object(20)\n",
            "memory usage: 85.2 MB\n"
          ]
        }
      ],
      "source": [
        "# [4-4] df의 행, 열에 대한 개수, 각 열 별 데이터 개수 및 dtype,\n",
        "# 메모리 사용량을 확인합니다.\n",
        "df.info(memory_usage='deep')"
      ]
    },
    {
      "cell_type": "markdown",
      "metadata": {
        "id": "NDa7bgUKsyzi"
      },
      "source": [
        "DataFrame의 한 개의 column은 Series이다.\n",
        "- DataFrame[컬럼명] : 컬럼 1개를 Series로 반환함\n",
        "- DataFrame[[컬럼명1, 컬럼명2, ...]] : 컬럼 목록에 있는 컬럼을 가져옴\n",
        "    - 컬럼 목록에 1개의 컬럼만 있어도 DataFrame이 반환됨\n",
        "\n",
        "Series.value_counts() : 데이터 별 개수를 Series로 반환\n",
        "- NA Value가 있다면 불포함"
      ]
    },
    {
      "cell_type": "code",
      "execution_count": 296,
      "metadata": {
        "colab": {
          "base_uri": "https://localhost:8080/"
        },
        "id": "k7OTt7GsykXw",
        "outputId": "363ca62c-21bd-4127-ef74-62528b24e000"
      },
      "outputs": [
        {
          "data": {
            "text/plain": [
              "상세영업상태명\n",
              "폐업    0.639123\n",
              "영업    0.360877\n",
              "Name: proportion, dtype: float64"
            ]
          },
          "execution_count": 296,
          "metadata": {},
          "output_type": "execute_result"
        }
      ],
      "source": [
        "# [4-5] df의 '상세영업상태명'에 대해 값별 개수를 구합니다.\n",
        "df['상세영업상태명'].value_counts(normalize=True)"
      ]
    },
    {
      "cell_type": "code",
      "execution_count": 297,
      "metadata": {},
      "outputs": [
        {
          "data": {
            "text/plain": [
              "폐업일자\n",
              "NaN           19011\n",
              "20030402.0       48\n",
              "20201228.0       47\n",
              "20051229.0       43\n",
              "20060216.0       42\n",
              "              ...  \n",
              "20000612.0        1\n",
              "20031104.0        1\n",
              "20010823.0        1\n",
              "20040108.0        1\n",
              "20210207.0        1\n",
              "Name: count, Length: 5689, dtype: int64"
            ]
          },
          "execution_count": 297,
          "metadata": {},
          "output_type": "execute_result"
        }
      ],
      "source": [
        "df['폐업일자'].value_counts(dropna=False)"
      ]
    },
    {
      "cell_type": "code",
      "execution_count": 298,
      "metadata": {
        "colab": {
          "base_uri": "https://localhost:8080/"
        },
        "id": "fBo3FeRqyrz1",
        "outputId": "cbedcc7c-92be-4148-f473-9e6785889ea2"
      },
      "outputs": [
        {
          "data": {
            "text/plain": [
              "상세영업상태코드\n",
              "2    33669\n",
              "1    19011\n",
              "Name: count, dtype: int64"
            ]
          },
          "execution_count": 298,
          "metadata": {},
          "output_type": "execute_result"
        }
      ],
      "source": [
        "# [4-6] df의 '상세영업상태코드'에 대해 값별 개수를 구합니다.\n",
        "# 1: 영업, 2: 폐업\n",
        "df['상세영업상태코드'].value_counts()"
      ]
    },
    {
      "cell_type": "code",
      "execution_count": 299,
      "metadata": {
        "colab": {
          "base_uri": "https://localhost:8080/",
          "height": 257
        },
        "id": "sBwlc3mPzJ04",
        "outputId": "8662242a-2269-470d-a262-9221b02f7240"
      },
      "outputs": [
        {
          "data": {
            "text/html": [
              "<div>\n",
              "<style scoped>\n",
              "    .dataframe tbody tr th:only-of-type {\n",
              "        vertical-align: middle;\n",
              "    }\n",
              "\n",
              "    .dataframe tbody tr th {\n",
              "        vertical-align: top;\n",
              "    }\n",
              "\n",
              "    .dataframe thead th {\n",
              "        text-align: right;\n",
              "    }\n",
              "</style>\n",
              "<table border=\"1\" class=\"dataframe\">\n",
              "  <thead>\n",
              "    <tr style=\"text-align: right;\">\n",
              "      <th></th>\n",
              "      <th>인허가일자</th>\n",
              "      <th>상세영업상태코드</th>\n",
              "      <th>폐업일자</th>\n",
              "      <th>소재지전체주소</th>\n",
              "      <th>사업장명</th>\n",
              "      <th>업태구분명</th>\n",
              "    </tr>\n",
              "  </thead>\n",
              "  <tbody>\n",
              "    <tr>\n",
              "      <th>0</th>\n",
              "      <td>20130201</td>\n",
              "      <td>1</td>\n",
              "      <td>NaN</td>\n",
              "      <td>광주광역시 서구 치평동 1177-2번지 (106,107호)</td>\n",
              "      <td>뚜레쥬르상무역점</td>\n",
              "      <td>제과점영업</td>\n",
              "    </tr>\n",
              "    <tr>\n",
              "      <th>1</th>\n",
              "      <td>20130318</td>\n",
              "      <td>1</td>\n",
              "      <td>NaN</td>\n",
              "      <td>광주광역시 서구 유촌동 868-1번지 (102호)</td>\n",
              "      <td>뚜레쥬르광주버들마을점</td>\n",
              "      <td>제과점영업</td>\n",
              "    </tr>\n",
              "    <tr>\n",
              "      <th>2</th>\n",
              "      <td>20130417</td>\n",
              "      <td>1</td>\n",
              "      <td>NaN</td>\n",
              "      <td>광주광역시 서구 화정동 1611번지 101호102호103호 상가2동</td>\n",
              "      <td>파리바게뜨화정현대점</td>\n",
              "      <td>제과점영업</td>\n",
              "    </tr>\n",
              "  </tbody>\n",
              "</table>\n",
              "</div>"
            ],
            "text/plain": [
              "      인허가일자  상세영업상태코드  폐업일자                                소재지전체주소  \\\n",
              "0  20130201         1   NaN       광주광역시 서구 치평동 1177-2번지 (106,107호)   \n",
              "1  20130318         1   NaN            광주광역시 서구 유촌동 868-1번지 (102호)   \n",
              "2  20130417         1   NaN  광주광역시 서구 화정동 1611번지 101호102호103호 상가2동   \n",
              "\n",
              "          사업장명  업태구분명  \n",
              "0     뚜레쥬르상무역점  제과점영업  \n",
              "1  뚜레쥬르광주버들마을점  제과점영업  \n",
              "2   파리바게뜨화정현대점  제과점영업  "
            ]
          },
          "execution_count": 299,
          "metadata": {},
          "output_type": "execute_result"
        }
      ],
      "source": [
        "# [4-7] df의 컬럼 중에\n",
        "# '인허가일자', '상세영업상태코드', '폐업일자', '소재지전체주소', '사업장명', '업태구분명'만 가져옵니다.\n",
        "# 이름을 bread로 정하고, 처음부터 3개 행을 출력해 봅니다.\n",
        "bread = df[['인허가일자', '상세영업상태코드', '폐업일자', '소재지전체주소', '사업장명', '업태구분명']]\n",
        "bread.head(3)"
      ]
    },
    {
      "cell_type": "markdown",
      "metadata": {
        "id": "C5pNhJFpiQzO"
      },
      "source": [
        "### 3-3.파생정보 추가"
      ]
    },
    {
      "cell_type": "markdown",
      "metadata": {
        "id": "2Vu0LP6JKcCq"
      },
      "source": [
        "Series의 str Accessor 사용\n",
        "- 세부 내용 : https://pandas.pydata.org/docs/reference/series.html#string-handling\n",
        "- Series.str.split() : whitespace(공백, 탭 등)을 기준으로 문자열 분리\n",
        "    - 예)  ‘서울특별시 종로구 …’  => [서울특별시, 종로구, …]\n",
        "- Series.str[0] : Series가 여러 개의 요소가 있는 경우 그 첫 번째 요소\n",
        "\n",
        "Series.unique() : 중복 데이터의 제거 후 배열로 반환, NA Value가 있다면 포함"
      ]
    },
    {
      "cell_type": "code",
      "execution_count": 300,
      "metadata": {
        "id": "DrVIGYRM1JaA"
      },
      "outputs": [
        {
          "data": {
            "text/plain": [
              "0        광주광역시\n",
              "1        광주광역시\n",
              "2        광주광역시\n",
              "3        광주광역시\n",
              "4        광주광역시\n",
              "         ...  \n",
              "52675    울산광역시\n",
              "52676    광주광역시\n",
              "52677    부산광역시\n",
              "52678      경기도\n",
              "52679      경기도\n",
              "Name: 소재지전체주소, Length: 52680, dtype: object"
            ]
          },
          "execution_count": 300,
          "metadata": {},
          "output_type": "execute_result"
        }
      ],
      "source": [
        "# [4-8] bread 의 '소재지전체주소' 중 시/도에 대한 정보(목록)를 추출합니다.\n",
        "bread['소재지전체주소'].str.split().str[0]"
      ]
    },
    {
      "cell_type": "markdown",
      "metadata": {
        "id": "TWMX4NJ_iKYC"
      },
      "source": [
        "Boolean indexing 사용하여 조건에 맞는 데이터 가져오기\n",
        "- DataFrame.loc[조건, :]\n",
        "- DataFrame[조건]\n",
        "- 조건은 boolean dtype이어야 하며 행의 수와 같아야 함\n",
        "- 복잡한 조건 작성\n",
        "    - (조건1) | (조건2)  : 조건1 또는 조건2를 만족하는 데이터\n",
        "    - (조건1) & (조건2)  : 조건1, 조건2 모두 만족하는 데이터\n",
        "    - ~(조건) : 조건이 거짓인 데이터"
      ]
    },
    {
      "cell_type": "code",
      "execution_count": 301,
      "metadata": {},
      "outputs": [
        {
          "data": {
            "text/plain": [
              "업태구분명\n",
              "제과점영업    52653\n",
              "푸드트럭        16\n",
              "NaN          6\n",
              "룸살롱          1\n",
              "과자점          1\n",
              "한식           1\n",
              "기타           1\n",
              "분식           1\n",
              "Name: count, dtype: int64"
            ]
          },
          "execution_count": 301,
          "metadata": {},
          "output_type": "execute_result"
        }
      ],
      "source": [
        "bread['업태구분명'].value_counts(dropna=False)"
      ]
    },
    {
      "cell_type": "code",
      "execution_count": 302,
      "metadata": {
        "id": "QjUC8IQd2gh9"
      },
      "outputs": [
        {
          "data": {
            "text/html": [
              "<div>\n",
              "<style scoped>\n",
              "    .dataframe tbody tr th:only-of-type {\n",
              "        vertical-align: middle;\n",
              "    }\n",
              "\n",
              "    .dataframe tbody tr th {\n",
              "        vertical-align: top;\n",
              "    }\n",
              "\n",
              "    .dataframe thead th {\n",
              "        text-align: right;\n",
              "    }\n",
              "</style>\n",
              "<table border=\"1\" class=\"dataframe\">\n",
              "  <thead>\n",
              "    <tr style=\"text-align: right;\">\n",
              "      <th></th>\n",
              "      <th>인허가일자</th>\n",
              "      <th>상세영업상태코드</th>\n",
              "      <th>폐업일자</th>\n",
              "      <th>소재지전체주소</th>\n",
              "      <th>사업장명</th>\n",
              "      <th>업태구분명</th>\n",
              "    </tr>\n",
              "  </thead>\n",
              "  <tbody>\n",
              "    <tr>\n",
              "      <th>1055</th>\n",
              "      <td>20010713</td>\n",
              "      <td>1</td>\n",
              "      <td>NaN</td>\n",
              "      <td>서울특별시 은평구 대조동 179-8 1,2층</td>\n",
              "      <td>파리바게뜨(역촌역점)</td>\n",
              "      <td>제과점영업</td>\n",
              "    </tr>\n",
              "    <tr>\n",
              "      <th>1056</th>\n",
              "      <td>20030507</td>\n",
              "      <td>1</td>\n",
              "      <td>NaN</td>\n",
              "      <td>서울특별시 은평구 갈현동 508-4번지 1층</td>\n",
              "      <td>파리바게뜨</td>\n",
              "      <td>제과점영업</td>\n",
              "    </tr>\n",
              "  </tbody>\n",
              "</table>\n",
              "</div>"
            ],
            "text/plain": [
              "         인허가일자  상세영업상태코드  폐업일자                   소재지전체주소         사업장명  업태구분명\n",
              "1055  20010713         1   NaN  서울특별시 은평구 대조동 179-8 1,2층  파리바게뜨(역촌역점)  제과점영업\n",
              "1056  20030507         1   NaN  서울특별시 은평구 갈현동 508-4번지 1층        파리바게뜨  제과점영업"
            ]
          },
          "execution_count": 302,
          "metadata": {},
          "output_type": "execute_result"
        }
      ],
      "source": [
        "# [4-9] bread에서 소재지전체주소의 처음이 '서울특별시'이면서,\n",
        "# '업태구분명'이 '제과점영업'인 것만 추출합니다.\n",
        "condition1 = bread['소재지전체주소'].str.split().str[0] == '서울특별시'\n",
        "condition2 = bread['업태구분명'] == '제과점영업'\n",
        "bread = bread[condition1 & condition2]\n",
        "bread.head(2)"
      ]
    },
    {
      "cell_type": "code",
      "execution_count": 303,
      "metadata": {
        "id": "VkkHc0avn-HA"
      },
      "outputs": [
        {
          "name": "stdout",
          "output_type": "stream",
          "text": [
            "(52680, 48) (12052, 6)\n"
          ]
        }
      ],
      "source": [
        "# [4-10] df, bread의 행/열 정보를 확인합니다.\n",
        "print(df.shape, bread.shape)"
      ]
    },
    {
      "cell_type": "markdown",
      "metadata": {
        "id": "KZUf5g2unPVr"
      },
      "source": [
        "DataFrame에 새로운 컬럼 추가\n",
        "- DataFrame['컬럼명'] = 데이터\n",
        "- 데이터의 개수는 기존 다른 컬럼의 행 개수와 같아야 함\n"
      ]
    },
    {
      "cell_type": "code",
      "execution_count": 304,
      "metadata": {
        "colab": {
          "base_uri": "https://localhost:8080/"
        },
        "id": "ZuLvxhBx-PHc",
        "outputId": "33b86fed-8020-4026-8363-26bbc265680a"
      },
      "outputs": [
        {
          "data": {
            "text/plain": [
              "Index(['인허가일자', '상세영업상태코드', '폐업일자', '소재지전체주소', '사업장명', '업태구분명', '구명', '동명'], dtype='object')"
            ]
          },
          "execution_count": 304,
          "metadata": {},
          "output_type": "execute_result"
        }
      ],
      "source": [
        "# [4-11] bread의 '소재지전체주소'에서 '구명', '동명'을 추출하여\n",
        "# bread에 새로운 컬럼으로 등록합니다.\n",
        " \n",
        "bread['구명'] = bread['소재지전체주소'].str.split().str[1]\n",
        "bread['동명'] = bread['소재지전체주소'].str.split().str[2]\n",
        "# bread의 컬럼명을 출력해 '구명', '동명'이 추가되었는지 확인함\n",
        "bread.columns"
      ]
    },
    {
      "cell_type": "markdown",
      "metadata": {
        "id": "4UnyhdKdQdez"
      },
      "source": [
        "Accessor 연습 LAB : https://colab.research.google.com/drive/1tkrP-1VWZYZ1Zl_9KrlkPBpVHWBMUlCy\n",
        "\n",
        "Accessor 연습 Teacher : https://colab.research.google.com/drive/1Szy5ZjK7hM6E7utgPIbAgwDAxcWWpwO5"
      ]
    },
    {
      "cell_type": "code",
      "execution_count": 305,
      "metadata": {},
      "outputs": [],
      "source": [
        "# 저장\n",
        "bread.to_csv('bread_ti.csv', index=False)"
      ]
    },
    {
      "cell_type": "code",
      "execution_count": null,
      "metadata": {},
      "outputs": [],
      "source": []
    },
    {
      "cell_type": "markdown",
      "metadata": {
        "id": "CY1HsSipiY6E"
      },
      "source": [
        "### 3-4.결측치 확인/처리"
      ]
    },
    {
      "cell_type": "markdown",
      "metadata": {
        "id": "c4ckyJrAp6Fj"
      },
      "source": [
        "결측치는 값이 없음을 나타냄\n",
        "- NaN, NaT, None 등으로 표기되며, NA Value, Missing Value 라고 함\n",
        "\n",
        "결측치 확인\n",
        "   - DataFrame.isna() : 결측치에 대해 True, 아니면 False\n",
        "   - DataFrame.isnull() : DataFrame.isna()와 동일함\n",
        "   - DataFrame.notna() : 결측치가 아닌 것에 대해 True, 결측치면 False\n",
        "   - DataFrame.notnull() : DataFrame.isnull()과 동일함\n",
        "   - Series에도 결측치 확인을 위한 isna() ~ notnull()의 메서드 있음\n",
        "\n",
        "DataFrame.isna().sum() : 결측치에 대해 컬럼별 개수"
      ]
    },
    {
      "cell_type": "code",
      "execution_count": 306,
      "metadata": {
        "id": "U43ceH1Dz8M3"
      },
      "outputs": [
        {
          "data": {
            "text/plain": [
              "인허가일자          0\n",
              "상세영업상태코드       0\n",
              "폐업일자        3955\n",
              "소재지전체주소        0\n",
              "사업장명           0\n",
              "업태구분명          0\n",
              "구명             0\n",
              "동명             0\n",
              "dtype: int64"
            ]
          },
          "execution_count": 306,
          "metadata": {},
          "output_type": "execute_result"
        }
      ],
      "source": [
        "# [4-12] bread2의 각 컬럼별 결측치의 개수를 확인합니다.\n",
        "bread2 = bread.copy()\n",
        "bread2.isna().sum()"
      ]
    },
    {
      "cell_type": "markdown",
      "metadata": {
        "id": "-7JVzPd8q7Cf"
      },
      "source": [
        "결측치 채우기\n",
        "- DataFrame.fillna(값) : 결측치를 특정 값으로 채움\n",
        "\n",
        "데이터 타입 변경 방법\n",
        "- Series.astype(타입)\n",
        "- 타입 표시 방법 : 'int', 'int32', 'int64', 'float', 'str', 'category',  ... 등의 문자열로 지정\n",
        "- np.int16, np.float32, np.datetime64, ... 등의 numpy 타입으로 지정\n",
        "- numpy 타입으로 지정하기 위해서는  ```import numpy as np```  를 먼저 실행하여야 함"
      ]
    },
    {
      "cell_type": "code",
      "execution_count": 307,
      "metadata": {
        "id": "GH1JVuVOdhAZ"
      },
      "outputs": [],
      "source": [
        "# import pandas as pd\n",
        "# df = pd.read_csv('./data_03/bread_data.csv',\n",
        "#                  encoding='cp949',\n",
        "#                  dtype={'건물소유구분명': object, '전통업소지정번호': object})\n",
        "# bread = df[['인허가일자', '상세영업상태코드', '폐업일자', '소재지전체주소', '사업장명', '업태구분명']]\n",
        "# condition1 = bread['소재지전체주소'].str.split().str[0] == '서울특별시'\n",
        "# condition2 = bread['업태구분명'] == '제과점영업'\n",
        "# bread = bread[condition1 & condition2]\n",
        "# temp = bread['소재지전체주소'].str.split()\n",
        "# bread['구명'] = temp.str[1]\n",
        "# bread['동명'] = temp.str[2]"
      ]
    },
    {
      "cell_type": "code",
      "execution_count": 308,
      "metadata": {
        "colab": {
          "base_uri": "https://localhost:8080/"
        },
        "id": "Pp5DCyBGzcn8",
        "outputId": "7cf565e4-6eea-4b19-b5c9-7a7a0d2b9425"
      },
      "outputs": [
        {
          "data": {
            "text/html": [
              "<div>\n",
              "<style scoped>\n",
              "    .dataframe tbody tr th:only-of-type {\n",
              "        vertical-align: middle;\n",
              "    }\n",
              "\n",
              "    .dataframe tbody tr th {\n",
              "        vertical-align: top;\n",
              "    }\n",
              "\n",
              "    .dataframe thead th {\n",
              "        text-align: right;\n",
              "    }\n",
              "</style>\n",
              "<table border=\"1\" class=\"dataframe\">\n",
              "  <thead>\n",
              "    <tr style=\"text-align: right;\">\n",
              "      <th></th>\n",
              "      <th>인허가일자</th>\n",
              "      <th>상세영업상태코드</th>\n",
              "      <th>폐업일자</th>\n",
              "      <th>소재지전체주소</th>\n",
              "      <th>사업장명</th>\n",
              "      <th>업태구분명</th>\n",
              "      <th>구명</th>\n",
              "      <th>동명</th>\n",
              "    </tr>\n",
              "  </thead>\n",
              "  <tbody>\n",
              "    <tr>\n",
              "      <th>1055</th>\n",
              "      <td>20010713</td>\n",
              "      <td>1</td>\n",
              "      <td>0</td>\n",
              "      <td>서울특별시 은평구 대조동 179-8 1,2층</td>\n",
              "      <td>파리바게뜨(역촌역점)</td>\n",
              "      <td>제과점영업</td>\n",
              "      <td>은평구</td>\n",
              "      <td>대조동</td>\n",
              "    </tr>\n",
              "    <tr>\n",
              "      <th>1056</th>\n",
              "      <td>20030507</td>\n",
              "      <td>1</td>\n",
              "      <td>0</td>\n",
              "      <td>서울특별시 은평구 갈현동 508-4번지 1층</td>\n",
              "      <td>파리바게뜨</td>\n",
              "      <td>제과점영업</td>\n",
              "      <td>은평구</td>\n",
              "      <td>갈현동</td>\n",
              "    </tr>\n",
              "    <tr>\n",
              "      <th>1057</th>\n",
              "      <td>20021011</td>\n",
              "      <td>1</td>\n",
              "      <td>0</td>\n",
              "      <td>서울특별시 은평구 녹번동 278-1번지 (108호)</td>\n",
              "      <td>신라명과(역촌현대점)</td>\n",
              "      <td>제과점영업</td>\n",
              "      <td>은평구</td>\n",
              "      <td>녹번동</td>\n",
              "    </tr>\n",
              "  </tbody>\n",
              "</table>\n",
              "</div>"
            ],
            "text/plain": [
              "         인허가일자  상세영업상태코드  폐업일자                       소재지전체주소         사업장명  \\\n",
              "1055  20010713         1     0      서울특별시 은평구 대조동 179-8 1,2층  파리바게뜨(역촌역점)   \n",
              "1056  20030507         1     0      서울특별시 은평구 갈현동 508-4번지 1층        파리바게뜨   \n",
              "1057  20021011         1     0  서울특별시 은평구 녹번동 278-1번지 (108호)  신라명과(역촌현대점)   \n",
              "\n",
              "      업태구분명   구명   동명  \n",
              "1055  제과점영업  은평구  대조동  \n",
              "1056  제과점영업  은평구  갈현동  \n",
              "1057  제과점영업  은평구  녹번동  "
            ]
          },
          "execution_count": 308,
          "metadata": {},
          "output_type": "execute_result"
        }
      ],
      "source": [
        "# [4-13] bread의 '폐업일자'에 대해 결측치인 것을 0.0으로 채우기 한 뒤,\n",
        "bread['폐업일자'] = bread['폐업일자'].fillna(0.0).astype('int64')\n",
        "bread.head(3)"
      ]
    },
    {
      "cell_type": "code",
      "execution_count": 309,
      "metadata": {},
      "outputs": [
        {
          "data": {
            "text/plain": [
              "인허가일자        int64\n",
              "상세영업상태코드     int64\n",
              "폐업일자         int64\n",
              "소재지전체주소     object\n",
              "사업장명        object\n",
              "업태구분명       object\n",
              "구명          object\n",
              "동명          object\n",
              "dtype: object"
            ]
          },
          "execution_count": 309,
          "metadata": {},
          "output_type": "execute_result"
        }
      ],
      "source": [
        "# 데이터 타입을 'int64'로 수정합니다.\n",
        "bread.dtypes"
      ]
    },
    {
      "cell_type": "code",
      "execution_count": 310,
      "metadata": {
        "id": "LR-C-Ur42_dZ"
      },
      "outputs": [
        {
          "data": {
            "text/plain": [
              "0"
            ]
          },
          "execution_count": 310,
          "metadata": {},
          "output_type": "execute_result"
        }
      ],
      "source": [
        "# [4-14] bread의 전체 결측치의 개수를 하나의 정수로 확인합니다.\n",
        "bread.isna().sum().sum()"
      ]
    },
    {
      "cell_type": "markdown",
      "metadata": {
        "id": "Dj4-Ng_lolJD"
      },
      "source": [
        "DataFrame에서 컬럼을 제거 함\n",
        "- DataFrame.drop(columns=['컬럼명1', '컬럼명2', ...])\n",
        "- DataFrame.drop(['컬럼명1', '컬럼명2', ...], axis=1)\n"
      ]
    },
    {
      "cell_type": "code",
      "execution_count": 311,
      "metadata": {
        "id": "4keobMbc05XK"
      },
      "outputs": [
        {
          "data": {
            "text/plain": [
              "(12052, 6)"
            ]
          },
          "execution_count": 311,
          "metadata": {},
          "output_type": "execute_result"
        }
      ],
      "source": [
        "# [4-15] bread에서 '소재지전체주소' 및 '업태구분명' 컬럼을 제거한 뒤, shape을 확인합니다.\n",
        "bread = bread.drop(columns=['소재지전체주소', '업태구분명'])\n",
        "bread.shape"
      ]
    },
    {
      "cell_type": "code",
      "execution_count": 312,
      "metadata": {
        "id": "oWv8_0z--t17"
      },
      "outputs": [
        {
          "data": {
            "text/html": [
              "<div>\n",
              "<style scoped>\n",
              "    .dataframe tbody tr th:only-of-type {\n",
              "        vertical-align: middle;\n",
              "    }\n",
              "\n",
              "    .dataframe tbody tr th {\n",
              "        vertical-align: top;\n",
              "    }\n",
              "\n",
              "    .dataframe thead th {\n",
              "        text-align: right;\n",
              "    }\n",
              "</style>\n",
              "<table border=\"1\" class=\"dataframe\">\n",
              "  <thead>\n",
              "    <tr style=\"text-align: right;\">\n",
              "      <th></th>\n",
              "      <th>인허가일자</th>\n",
              "      <th>상세영업상태코드</th>\n",
              "      <th>폐업일자</th>\n",
              "      <th>사업장명</th>\n",
              "      <th>구명</th>\n",
              "      <th>동명</th>\n",
              "    </tr>\n",
              "  </thead>\n",
              "  <tbody>\n",
              "    <tr>\n",
              "      <th>1055</th>\n",
              "      <td>20010713</td>\n",
              "      <td>1</td>\n",
              "      <td>0</td>\n",
              "      <td>파리바게뜨(역촌역점)</td>\n",
              "      <td>은평구</td>\n",
              "      <td>대조동</td>\n",
              "    </tr>\n",
              "    <tr>\n",
              "      <th>1056</th>\n",
              "      <td>20030507</td>\n",
              "      <td>1</td>\n",
              "      <td>0</td>\n",
              "      <td>파리바게뜨</td>\n",
              "      <td>은평구</td>\n",
              "      <td>갈현동</td>\n",
              "    </tr>\n",
              "    <tr>\n",
              "      <th>1057</th>\n",
              "      <td>20021011</td>\n",
              "      <td>1</td>\n",
              "      <td>0</td>\n",
              "      <td>신라명과(역촌현대점)</td>\n",
              "      <td>은평구</td>\n",
              "      <td>녹번동</td>\n",
              "    </tr>\n",
              "  </tbody>\n",
              "</table>\n",
              "</div>"
            ],
            "text/plain": [
              "         인허가일자  상세영업상태코드  폐업일자         사업장명   구명   동명\n",
              "1055  20010713         1     0  파리바게뜨(역촌역점)  은평구  대조동\n",
              "1056  20030507         1     0        파리바게뜨  은평구  갈현동\n",
              "1057  20021011         1     0  신라명과(역촌현대점)  은평구  녹번동"
            ]
          },
          "execution_count": 312,
          "metadata": {},
          "output_type": "execute_result"
        }
      ],
      "source": [
        "# [4-16] bread의 첫 3개 행을 확인합니다.\n",
        "bread.head(3)"
      ]
    },
    {
      "cell_type": "markdown",
      "metadata": {
        "id": "JH8JXI15sgiV"
      },
      "source": [
        "컬럼이름 변경하기\n",
        "- DataFrame.rename(columns={'변경전이름':'변경후이름', ...})\n",
        "- DataFrame.rename({'변경전이름':'변경후이름', ...}, axis=1)"
      ]
    },
    {
      "cell_type": "code",
      "execution_count": 313,
      "metadata": {
        "id": "tAvVrHEUAQHk"
      },
      "outputs": [
        {
          "data": {
            "text/html": [
              "<div>\n",
              "<style scoped>\n",
              "    .dataframe tbody tr th:only-of-type {\n",
              "        vertical-align: middle;\n",
              "    }\n",
              "\n",
              "    .dataframe tbody tr th {\n",
              "        vertical-align: top;\n",
              "    }\n",
              "\n",
              "    .dataframe thead th {\n",
              "        text-align: right;\n",
              "    }\n",
              "</style>\n",
              "<table border=\"1\" class=\"dataframe\">\n",
              "  <thead>\n",
              "    <tr style=\"text-align: right;\">\n",
              "      <th></th>\n",
              "      <th>인허가일자</th>\n",
              "      <th>상태코드</th>\n",
              "      <th>폐업일자</th>\n",
              "      <th>사업장명</th>\n",
              "      <th>구명</th>\n",
              "      <th>동명</th>\n",
              "    </tr>\n",
              "  </thead>\n",
              "  <tbody>\n",
              "    <tr>\n",
              "      <th>1055</th>\n",
              "      <td>20010713</td>\n",
              "      <td>1</td>\n",
              "      <td>0</td>\n",
              "      <td>파리바게뜨(역촌역점)</td>\n",
              "      <td>은평구</td>\n",
              "      <td>대조동</td>\n",
              "    </tr>\n",
              "    <tr>\n",
              "      <th>1056</th>\n",
              "      <td>20030507</td>\n",
              "      <td>1</td>\n",
              "      <td>0</td>\n",
              "      <td>파리바게뜨</td>\n",
              "      <td>은평구</td>\n",
              "      <td>갈현동</td>\n",
              "    </tr>\n",
              "    <tr>\n",
              "      <th>1057</th>\n",
              "      <td>20021011</td>\n",
              "      <td>1</td>\n",
              "      <td>0</td>\n",
              "      <td>신라명과(역촌현대점)</td>\n",
              "      <td>은평구</td>\n",
              "      <td>녹번동</td>\n",
              "    </tr>\n",
              "  </tbody>\n",
              "</table>\n",
              "</div>"
            ],
            "text/plain": [
              "         인허가일자  상태코드  폐업일자         사업장명   구명   동명\n",
              "1055  20010713     1     0  파리바게뜨(역촌역점)  은평구  대조동\n",
              "1056  20030507     1     0        파리바게뜨  은평구  갈현동\n",
              "1057  20021011     1     0  신라명과(역촌현대점)  은평구  녹번동"
            ]
          },
          "execution_count": 313,
          "metadata": {},
          "output_type": "execute_result"
        }
      ],
      "source": [
        "# [4-17] bread의 '상세영업상태코드'라는 컬럼명을 '상태코드'로 변경한 뒤,\n",
        "# 첫 2개의 행을 확인합니다.\n",
        "bread = bread.rename(columns={'상세영업상태코드': '상태코드'})\n",
        "bread.head(3)"
      ]
    },
    {
      "cell_type": "markdown",
      "metadata": {
        "id": "XgR_HcEesyNI"
      },
      "source": [
        "CSV 파일로 저장하기\n",
        "- DataFrame.to_csv('파일이름', index=False) : index를 제외한 내용을 csv 파일로 저장함"
      ]
    },
    {
      "cell_type": "code",
      "execution_count": 314,
      "metadata": {
        "id": "gK2qnxEz_dqr"
      },
      "outputs": [],
      "source": [
        "# [4-18] bread를 'bread_after.csv' 파일로 index를 제외하고 저장합니다.\n",
        "bread.to_csv('bread_after.csv', index=False)"
      ]
    },
    {
      "cell_type": "code",
      "execution_count": 315,
      "metadata": {
        "colab": {
          "base_uri": "https://localhost:8080/",
          "height": 112
        },
        "id": "giDEMv36jc98",
        "outputId": "c064f097-af4e-46ad-98b7-98b6060d0ffb"
      },
      "outputs": [
        {
          "data": {
            "text/html": [
              "<div>\n",
              "<style scoped>\n",
              "    .dataframe tbody tr th:only-of-type {\n",
              "        vertical-align: middle;\n",
              "    }\n",
              "\n",
              "    .dataframe tbody tr th {\n",
              "        vertical-align: top;\n",
              "    }\n",
              "\n",
              "    .dataframe thead th {\n",
              "        text-align: right;\n",
              "    }\n",
              "</style>\n",
              "<table border=\"1\" class=\"dataframe\">\n",
              "  <thead>\n",
              "    <tr style=\"text-align: right;\">\n",
              "      <th></th>\n",
              "      <th>인허가일자</th>\n",
              "      <th>상태코드</th>\n",
              "      <th>폐업일자</th>\n",
              "      <th>사업장명</th>\n",
              "      <th>구명</th>\n",
              "      <th>동명</th>\n",
              "    </tr>\n",
              "  </thead>\n",
              "  <tbody>\n",
              "    <tr>\n",
              "      <th>0</th>\n",
              "      <td>20010713</td>\n",
              "      <td>1</td>\n",
              "      <td>0</td>\n",
              "      <td>파리바게뜨(역촌역점)</td>\n",
              "      <td>은평구</td>\n",
              "      <td>대조동</td>\n",
              "    </tr>\n",
              "    <tr>\n",
              "      <th>1</th>\n",
              "      <td>20030507</td>\n",
              "      <td>1</td>\n",
              "      <td>0</td>\n",
              "      <td>파리바게뜨</td>\n",
              "      <td>은평구</td>\n",
              "      <td>갈현동</td>\n",
              "    </tr>\n",
              "    <tr>\n",
              "      <th>2</th>\n",
              "      <td>20021011</td>\n",
              "      <td>1</td>\n",
              "      <td>0</td>\n",
              "      <td>신라명과(역촌현대점)</td>\n",
              "      <td>은평구</td>\n",
              "      <td>녹번동</td>\n",
              "    </tr>\n",
              "    <tr>\n",
              "      <th>3</th>\n",
              "      <td>20011015</td>\n",
              "      <td>1</td>\n",
              "      <td>0</td>\n",
              "      <td>브르망</td>\n",
              "      <td>은평구</td>\n",
              "      <td>불광동</td>\n",
              "    </tr>\n",
              "    <tr>\n",
              "      <th>4</th>\n",
              "      <td>20050406</td>\n",
              "      <td>1</td>\n",
              "      <td>0</td>\n",
              "      <td>케잌하우스밀레</td>\n",
              "      <td>중랑구</td>\n",
              "      <td>중화동</td>\n",
              "    </tr>\n",
              "  </tbody>\n",
              "</table>\n",
              "</div>"
            ],
            "text/plain": [
              "      인허가일자  상태코드  폐업일자         사업장명   구명   동명\n",
              "0  20010713     1     0  파리바게뜨(역촌역점)  은평구  대조동\n",
              "1  20030507     1     0        파리바게뜨  은평구  갈현동\n",
              "2  20021011     1     0  신라명과(역촌현대점)  은평구  녹번동\n",
              "3  20011015     1     0          브르망  은평구  불광동\n",
              "4  20050406     1     0      케잌하우스밀레  중랑구  중화동"
            ]
          },
          "execution_count": 315,
          "metadata": {},
          "output_type": "execute_result"
        }
      ],
      "source": [
        "# [4-19] 'bread_after.csv' 파일을 읽어 bread라는 이름으로 저장합니다.\n",
        "bread = pd.read_csv('bread_after.csv')\n",
        "bread.head()"
      ]
    },
    {
      "cell_type": "markdown",
      "metadata": {
        "id": "CLo_yCXIiieZ"
      },
      "source": [
        "### 3-5.설립년도,폐업년도 분석"
      ]
    },
    {
      "cell_type": "markdown",
      "metadata": {
        "id": "5AIin-GjtmS_"
      },
      "source": [
        "Series의 연산\n",
        "- Series는 스칼라값과 연산 시 각 값과 스칼라 값의 연산이 이루어짐\n",
        "- 결과는 Series가 됨"
      ]
    },
    {
      "cell_type": "code",
      "execution_count": 316,
      "metadata": {},
      "outputs": [
        {
          "data": {
            "text/plain": [
              "인허가일자    int64\n",
              "폐업일자     int64\n",
              "dtype: object"
            ]
          },
          "execution_count": 316,
          "metadata": {},
          "output_type": "execute_result"
        }
      ],
      "source": [
        "temp = bread[['인허가일자', '폐업일자']]\n",
        "temp.dtypes\n"
      ]
    },
    {
      "cell_type": "code",
      "execution_count": 317,
      "metadata": {
        "id": "U7-8wzAyA4vI"
      },
      "outputs": [
        {
          "data": {
            "text/html": [
              "<div>\n",
              "<style scoped>\n",
              "    .dataframe tbody tr th:only-of-type {\n",
              "        vertical-align: middle;\n",
              "    }\n",
              "\n",
              "    .dataframe tbody tr th {\n",
              "        vertical-align: top;\n",
              "    }\n",
              "\n",
              "    .dataframe thead th {\n",
              "        text-align: right;\n",
              "    }\n",
              "</style>\n",
              "<table border=\"1\" class=\"dataframe\">\n",
              "  <thead>\n",
              "    <tr style=\"text-align: right;\">\n",
              "      <th></th>\n",
              "      <th>인허가일자</th>\n",
              "      <th>상태코드</th>\n",
              "      <th>폐업일자</th>\n",
              "      <th>사업장명</th>\n",
              "      <th>구명</th>\n",
              "      <th>동명</th>\n",
              "      <th>설립년도</th>\n",
              "      <th>폐업년도</th>\n",
              "    </tr>\n",
              "  </thead>\n",
              "  <tbody>\n",
              "    <tr>\n",
              "      <th>12050</th>\n",
              "      <td>20210125</td>\n",
              "      <td>2</td>\n",
              "      <td>20210215</td>\n",
              "      <td>유한회사 카페노티드(한시적)</td>\n",
              "      <td>강남구</td>\n",
              "      <td>압구정동</td>\n",
              "      <td>2021</td>\n",
              "      <td>2021</td>\n",
              "    </tr>\n",
              "    <tr>\n",
              "      <th>12051</th>\n",
              "      <td>20201208</td>\n",
              "      <td>2</td>\n",
              "      <td>20210315</td>\n",
              "      <td>고오급 빵집</td>\n",
              "      <td>동작구</td>\n",
              "      <td>사당동</td>\n",
              "      <td>2020</td>\n",
              "      <td>2021</td>\n",
              "    </tr>\n",
              "  </tbody>\n",
              "</table>\n",
              "</div>"
            ],
            "text/plain": [
              "          인허가일자  상태코드      폐업일자             사업장명   구명    동명  설립년도  폐업년도\n",
              "12050  20210125     2  20210215  유한회사 카페노티드(한시적)  강남구  압구정동  2021  2021\n",
              "12051  20201208     2  20210315           고오급 빵집  동작구   사당동  2020  2021"
            ]
          },
          "execution_count": 317,
          "metadata": {},
          "output_type": "execute_result"
        }
      ],
      "source": [
        "# [4-20] bread에 '설립년도' 및 '폐업년도' 컬럼을 추가합니다.\n",
        "# '인허가일자'//10000, '폐업일자 // 10000 을 사용하여 구합니다.\n",
        "# 두 개의 컬럼이 추가된 bread의 첫 2개 행을 확인합니다.\n",
        "year = bread['인허가일자'] // 10000\n",
        "month = bread['인허가일자'] // 100 % 100\n",
        "day = bread['인허가일자'] % 100\n",
        "bread['설립년도'] = bread['인허가일자'] // 10000\n",
        "bread['폐업년도'] = bread['폐업일자'] // 10000\n",
        "bread.tail(2)"
      ]
    },
    {
      "cell_type": "code",
      "execution_count": 318,
      "metadata": {},
      "outputs": [
        {
          "data": {
            "text/plain": [
              "0         7\n",
              "1         5\n",
              "2        10\n",
              "3        10\n",
              "4         4\n",
              "         ..\n",
              "12047    12\n",
              "12048    12\n",
              "12049     1\n",
              "12050     1\n",
              "12051    12\n",
              "Name: 인허가일자, Length: 12052, dtype: int32"
            ]
          },
          "execution_count": 318,
          "metadata": {},
          "output_type": "execute_result"
        }
      ],
      "source": [
        "temp = pd.to_datetime(bread['인허가일자'], format='%Y%m%d')\n",
        "temp.dt.month"
      ]
    },
    {
      "cell_type": "code",
      "execution_count": 319,
      "metadata": {
        "id": "2bwhzDc-BcWO"
      },
      "outputs": [
        {
          "data": {
            "text/html": [
              "<div>\n",
              "<style scoped>\n",
              "    .dataframe tbody tr th:only-of-type {\n",
              "        vertical-align: middle;\n",
              "    }\n",
              "\n",
              "    .dataframe tbody tr th {\n",
              "        vertical-align: top;\n",
              "    }\n",
              "\n",
              "    .dataframe thead th {\n",
              "        text-align: right;\n",
              "    }\n",
              "</style>\n",
              "<table border=\"1\" class=\"dataframe\">\n",
              "  <thead>\n",
              "    <tr style=\"text-align: right;\">\n",
              "      <th></th>\n",
              "      <th>인허가일자</th>\n",
              "      <th>상태코드</th>\n",
              "      <th>폐업일자</th>\n",
              "      <th>사업장명</th>\n",
              "      <th>구명</th>\n",
              "      <th>동명</th>\n",
              "      <th>설립년도</th>\n",
              "      <th>폐업년도</th>\n",
              "      <th>영업기간</th>\n",
              "    </tr>\n",
              "  </thead>\n",
              "  <tbody>\n",
              "    <tr>\n",
              "      <th>12049</th>\n",
              "      <td>20210119</td>\n",
              "      <td>2</td>\n",
              "      <td>20210220</td>\n",
              "      <td>리암스(Liam's)</td>\n",
              "      <td>서초구</td>\n",
              "      <td>반포동</td>\n",
              "      <td>2021</td>\n",
              "      <td>2021</td>\n",
              "      <td>1.0</td>\n",
              "    </tr>\n",
              "    <tr>\n",
              "      <th>12050</th>\n",
              "      <td>20210125</td>\n",
              "      <td>2</td>\n",
              "      <td>20210215</td>\n",
              "      <td>유한회사 카페노티드(한시적)</td>\n",
              "      <td>강남구</td>\n",
              "      <td>압구정동</td>\n",
              "      <td>2021</td>\n",
              "      <td>2021</td>\n",
              "      <td>1.0</td>\n",
              "    </tr>\n",
              "    <tr>\n",
              "      <th>12051</th>\n",
              "      <td>20201208</td>\n",
              "      <td>2</td>\n",
              "      <td>20210315</td>\n",
              "      <td>고오급 빵집</td>\n",
              "      <td>동작구</td>\n",
              "      <td>사당동</td>\n",
              "      <td>2020</td>\n",
              "      <td>2021</td>\n",
              "      <td>2.0</td>\n",
              "    </tr>\n",
              "  </tbody>\n",
              "</table>\n",
              "</div>"
            ],
            "text/plain": [
              "          인허가일자  상태코드      폐업일자             사업장명   구명    동명  설립년도  폐업년도  영업기간\n",
              "12049  20210119     2  20210220      리암스(Liam's)  서초구   반포동  2021  2021   1.0\n",
              "12050  20210125     2  20210215  유한회사 카페노티드(한시적)  강남구  압구정동  2021  2021   1.0\n",
              "12051  20201208     2  20210315           고오급 빵집  동작구   사당동  2020  2021   2.0"
            ]
          },
          "execution_count": 319,
          "metadata": {},
          "output_type": "execute_result"
        }
      ],
      "source": [
        "# [4-21] bread에 '영업기간' 컬럼을 추가합니다\n",
        "# '영업기간'은 '상태코드'가 1(=영업)인 경우 2021 - 설립년도 + 1\n",
        "# '상태코드'가 2(=폐업)인 경우 폐업년도 - 설립년도 + 1로 계산합니다.\n",
        "nyear = 2021\n",
        "bread.loc[bread['상태코드'] == 1, '영업기간'] = nyear - bread['설립년도'] + 1\n",
        "bread.loc[bread['상태코드'] == 2, '영업기간'] = bread['폐업년도'] - bread['설립년도'] + 1\n",
        "bread.tail(3)"
      ]
    },
    {
      "cell_type": "code",
      "execution_count": 320,
      "metadata": {},
      "outputs": [
        {
          "name": "stdout",
          "output_type": "stream",
          "text": [
            "2023-10-30 17:32:20.600729\n",
            "2023 10 30 17\n"
          ]
        }
      ],
      "source": [
        "# [TIP] 현재 날짜 정보 읽어오기\n",
        "from datetime import datetime\n",
        "today = datetime.today()\n",
        "print(today)\n",
        "print(today.year, today.month, today.day, today.hour)"
      ]
    },
    {
      "cell_type": "markdown",
      "metadata": {
        "id": "v9RJpS9sxOuD"
      },
      "source": [
        "Series를 DataFrame으로 만들기\n",
        "- pd.DataFrame(Series)\n",
        "- Series.to_frame()\n",
        "\n",
        "DataFrame의 index 정렬하기\n",
        "- DataFrame.sort_index() : 오름차순 정렬\n",
        "- DataFrame.sort_index(ascending=False) : 내림차순 정렬\n",
        "\n",
        "DataFrame의 전치행렬 구하기\n",
        "- DataFrame.T\n"
      ]
    },
    {
      "cell_type": "code",
      "execution_count": 321,
      "metadata": {
        "id": "BH_40oHlBuTr"
      },
      "outputs": [
        {
          "data": {
            "text/html": [
              "<div>\n",
              "<style scoped>\n",
              "    .dataframe tbody tr th:only-of-type {\n",
              "        vertical-align: middle;\n",
              "    }\n",
              "\n",
              "    .dataframe tbody tr th {\n",
              "        vertical-align: top;\n",
              "    }\n",
              "\n",
              "    .dataframe thead th {\n",
              "        text-align: right;\n",
              "    }\n",
              "</style>\n",
              "<table border=\"1\" class=\"dataframe\">\n",
              "  <thead>\n",
              "    <tr style=\"text-align: right;\">\n",
              "      <th>설립년도</th>\n",
              "      <th>1952</th>\n",
              "      <th>1965</th>\n",
              "      <th>1966</th>\n",
              "      <th>1967</th>\n",
              "      <th>1968</th>\n",
              "      <th>1969</th>\n",
              "      <th>1970</th>\n",
              "      <th>1971</th>\n",
              "      <th>1972</th>\n",
              "      <th>1973</th>\n",
              "      <th>...</th>\n",
              "      <th>2012</th>\n",
              "      <th>2013</th>\n",
              "      <th>2014</th>\n",
              "      <th>2015</th>\n",
              "      <th>2016</th>\n",
              "      <th>2017</th>\n",
              "      <th>2018</th>\n",
              "      <th>2019</th>\n",
              "      <th>2020</th>\n",
              "      <th>2021</th>\n",
              "    </tr>\n",
              "  </thead>\n",
              "  <tbody>\n",
              "    <tr>\n",
              "      <th>count</th>\n",
              "      <td>1</td>\n",
              "      <td>1</td>\n",
              "      <td>1</td>\n",
              "      <td>11</td>\n",
              "      <td>5</td>\n",
              "      <td>10</td>\n",
              "      <td>20</td>\n",
              "      <td>12</td>\n",
              "      <td>9</td>\n",
              "      <td>5</td>\n",
              "      <td>...</td>\n",
              "      <td>378</td>\n",
              "      <td>431</td>\n",
              "      <td>474</td>\n",
              "      <td>572</td>\n",
              "      <td>644</td>\n",
              "      <td>623</td>\n",
              "      <td>538</td>\n",
              "      <td>546</td>\n",
              "      <td>502</td>\n",
              "      <td>433</td>\n",
              "    </tr>\n",
              "  </tbody>\n",
              "</table>\n",
              "<p>1 rows × 58 columns</p>\n",
              "</div>"
            ],
            "text/plain": [
              "설립년도   1952  1965  1966  1967  1968  1969  1970  1971  1972  1973  ...  2012  \\\n",
              "count     1     1     1    11     5    10    20    12     9     5  ...   378   \n",
              "\n",
              "설립년도   2013  2014  2015  2016  2017  2018  2019  2020  2021  \n",
              "count   431   474   572   644   623   538   546   502   433  \n",
              "\n",
              "[1 rows x 58 columns]"
            ]
          },
          "execution_count": 321,
          "metadata": {},
          "output_type": "execute_result"
        }
      ],
      "source": [
        "# [4-22] bread의 '설립년도'별 데이터 수를 구해 년도별로 정렬하고,\n",
        "# DataFrame으로 변경하여 전치행렬을 구해 temp1 이름을 부여해 출력합니다.\n",
        "temp1 = bread['설립년도'].value_counts().sort_index().to_frame().T\n",
        "temp1"
      ]
    },
    {
      "cell_type": "code",
      "execution_count": 322,
      "metadata": {
        "id": "wZNramAiBuQo"
      },
      "outputs": [
        {
          "data": {
            "text/html": [
              "<div>\n",
              "<style scoped>\n",
              "    .dataframe tbody tr th:only-of-type {\n",
              "        vertical-align: middle;\n",
              "    }\n",
              "\n",
              "    .dataframe tbody tr th {\n",
              "        vertical-align: top;\n",
              "    }\n",
              "\n",
              "    .dataframe thead th {\n",
              "        text-align: right;\n",
              "    }\n",
              "</style>\n",
              "<table border=\"1\" class=\"dataframe\">\n",
              "  <thead>\n",
              "    <tr style=\"text-align: right;\">\n",
              "      <th>폐업년도</th>\n",
              "      <th>0</th>\n",
              "      <th>1984</th>\n",
              "      <th>1988</th>\n",
              "      <th>1989</th>\n",
              "      <th>1990</th>\n",
              "      <th>1991</th>\n",
              "      <th>1992</th>\n",
              "      <th>1993</th>\n",
              "      <th>1994</th>\n",
              "      <th>1995</th>\n",
              "      <th>...</th>\n",
              "      <th>2012</th>\n",
              "      <th>2013</th>\n",
              "      <th>2014</th>\n",
              "      <th>2015</th>\n",
              "      <th>2016</th>\n",
              "      <th>2017</th>\n",
              "      <th>2018</th>\n",
              "      <th>2019</th>\n",
              "      <th>2020</th>\n",
              "      <th>2021</th>\n",
              "    </tr>\n",
              "  </thead>\n",
              "  <tbody>\n",
              "    <tr>\n",
              "      <th>count</th>\n",
              "      <td>3955</td>\n",
              "      <td>1</td>\n",
              "      <td>2</td>\n",
              "      <td>1</td>\n",
              "      <td>33</td>\n",
              "      <td>4</td>\n",
              "      <td>35</td>\n",
              "      <td>29</td>\n",
              "      <td>16</td>\n",
              "      <td>24</td>\n",
              "      <td>...</td>\n",
              "      <td>475</td>\n",
              "      <td>374</td>\n",
              "      <td>396</td>\n",
              "      <td>447</td>\n",
              "      <td>469</td>\n",
              "      <td>612</td>\n",
              "      <td>518</td>\n",
              "      <td>514</td>\n",
              "      <td>515</td>\n",
              "      <td>349</td>\n",
              "    </tr>\n",
              "  </tbody>\n",
              "</table>\n",
              "<p>1 rows × 36 columns</p>\n",
              "</div>"
            ],
            "text/plain": [
              "폐업년도   0     1984  1988  1989  1990  1991  1992  1993  1994  1995  ...  2012  \\\n",
              "count  3955     1     2     1    33     4    35    29    16    24  ...   475   \n",
              "\n",
              "폐업년도   2013  2014  2015  2016  2017  2018  2019  2020  2021  \n",
              "count   374   396   447   469   612   518   514   515   349  \n",
              "\n",
              "[1 rows x 36 columns]"
            ]
          },
          "execution_count": 322,
          "metadata": {},
          "output_type": "execute_result"
        }
      ],
      "source": [
        "# [4-23] bread의 '폐업년도'별 데이터 수를 구해 년도별로 정렬하고,\n",
        "# DataFrame으로 변경하여 전치행렬을 구해 temp2 이름을 부여해 출력합니다.\n",
        "temp2 = bread['폐업년도'].value_counts().sort_index().to_frame().T\n",
        "temp2"
      ]
    },
    {
      "cell_type": "markdown",
      "metadata": {
        "id": "apWXe0xSx_b2"
      },
      "source": [
        "여러 개의 데이터프레임 합치기\n",
        "- pd.concat([DataFrame1, DataFrame2, ...])\n",
        "- DataFrame의 목록에 있는 순서대로 위 -> 아래 방향으로 합쳐 한 개 DataFrame 반환"
      ]
    },
    {
      "cell_type": "code",
      "execution_count": 323,
      "metadata": {
        "id": "QM5qgWAKDS06"
      },
      "outputs": [
        {
          "data": {
            "text/html": [
              "<div>\n",
              "<style scoped>\n",
              "    .dataframe tbody tr th:only-of-type {\n",
              "        vertical-align: middle;\n",
              "    }\n",
              "\n",
              "    .dataframe tbody tr th {\n",
              "        vertical-align: top;\n",
              "    }\n",
              "\n",
              "    .dataframe thead th {\n",
              "        text-align: right;\n",
              "    }\n",
              "</style>\n",
              "<table border=\"1\" class=\"dataframe\">\n",
              "  <thead>\n",
              "    <tr style=\"text-align: right;\">\n",
              "      <th></th>\n",
              "      <th>1952</th>\n",
              "      <th>1965</th>\n",
              "      <th>1966</th>\n",
              "      <th>1967</th>\n",
              "      <th>1968</th>\n",
              "      <th>1969</th>\n",
              "      <th>1970</th>\n",
              "      <th>1971</th>\n",
              "      <th>1972</th>\n",
              "      <th>1973</th>\n",
              "      <th>...</th>\n",
              "      <th>2013</th>\n",
              "      <th>2014</th>\n",
              "      <th>2015</th>\n",
              "      <th>2016</th>\n",
              "      <th>2017</th>\n",
              "      <th>2018</th>\n",
              "      <th>2019</th>\n",
              "      <th>2020</th>\n",
              "      <th>2021</th>\n",
              "      <th>0</th>\n",
              "    </tr>\n",
              "  </thead>\n",
              "  <tbody>\n",
              "    <tr>\n",
              "      <th>count</th>\n",
              "      <td>1.0</td>\n",
              "      <td>1.0</td>\n",
              "      <td>1.0</td>\n",
              "      <td>11.0</td>\n",
              "      <td>5.0</td>\n",
              "      <td>10.0</td>\n",
              "      <td>20.0</td>\n",
              "      <td>12.0</td>\n",
              "      <td>9.0</td>\n",
              "      <td>5.0</td>\n",
              "      <td>...</td>\n",
              "      <td>431</td>\n",
              "      <td>474</td>\n",
              "      <td>572</td>\n",
              "      <td>644</td>\n",
              "      <td>623</td>\n",
              "      <td>538</td>\n",
              "      <td>546</td>\n",
              "      <td>502</td>\n",
              "      <td>433</td>\n",
              "      <td>NaN</td>\n",
              "    </tr>\n",
              "    <tr>\n",
              "      <th>count</th>\n",
              "      <td>NaN</td>\n",
              "      <td>NaN</td>\n",
              "      <td>NaN</td>\n",
              "      <td>NaN</td>\n",
              "      <td>NaN</td>\n",
              "      <td>NaN</td>\n",
              "      <td>NaN</td>\n",
              "      <td>NaN</td>\n",
              "      <td>NaN</td>\n",
              "      <td>NaN</td>\n",
              "      <td>...</td>\n",
              "      <td>374</td>\n",
              "      <td>396</td>\n",
              "      <td>447</td>\n",
              "      <td>469</td>\n",
              "      <td>612</td>\n",
              "      <td>518</td>\n",
              "      <td>514</td>\n",
              "      <td>515</td>\n",
              "      <td>349</td>\n",
              "      <td>3955.0</td>\n",
              "    </tr>\n",
              "  </tbody>\n",
              "</table>\n",
              "<p>2 rows × 59 columns</p>\n",
              "</div>"
            ],
            "text/plain": [
              "       1952  1965  1966  1967  1968  1969  1970  1971  1972  1973  ...  2013  \\\n",
              "count   1.0   1.0   1.0  11.0   5.0  10.0  20.0  12.0   9.0   5.0  ...   431   \n",
              "count   NaN   NaN   NaN   NaN   NaN   NaN   NaN   NaN   NaN   NaN  ...   374   \n",
              "\n",
              "       2014  2015  2016  2017  2018  2019  2020  2021    0     \n",
              "count   474   572   644   623   538   546   502   433     NaN  \n",
              "count   396   447   469   612   518   514   515   349  3955.0  \n",
              "\n",
              "[2 rows x 59 columns]"
            ]
          },
          "execution_count": 323,
          "metadata": {},
          "output_type": "execute_result"
        }
      ],
      "source": [
        "# [4-23] temp1, temp2를 합쳐서 temp라고 이름 붙입니다.\n",
        "temp = pd.concat([temp1, temp2], join='outer') # outer가 default\n",
        "temp"
      ]
    },
    {
      "cell_type": "code",
      "execution_count": 324,
      "metadata": {
        "id": "Aq-N8bNwEHbW"
      },
      "outputs": [
        {
          "data": {
            "text/html": [
              "<div>\n",
              "<style scoped>\n",
              "    .dataframe tbody tr th:only-of-type {\n",
              "        vertical-align: middle;\n",
              "    }\n",
              "\n",
              "    .dataframe tbody tr th {\n",
              "        vertical-align: top;\n",
              "    }\n",
              "\n",
              "    .dataframe thead th {\n",
              "        text-align: right;\n",
              "    }\n",
              "</style>\n",
              "<table border=\"1\" class=\"dataframe\">\n",
              "  <thead>\n",
              "    <tr style=\"text-align: right;\">\n",
              "      <th></th>\n",
              "      <th>1952</th>\n",
              "      <th>1965</th>\n",
              "      <th>1966</th>\n",
              "      <th>1967</th>\n",
              "      <th>1968</th>\n",
              "      <th>1969</th>\n",
              "      <th>1970</th>\n",
              "      <th>1971</th>\n",
              "      <th>1972</th>\n",
              "      <th>1973</th>\n",
              "      <th>...</th>\n",
              "      <th>2013</th>\n",
              "      <th>2014</th>\n",
              "      <th>2015</th>\n",
              "      <th>2016</th>\n",
              "      <th>2017</th>\n",
              "      <th>2018</th>\n",
              "      <th>2019</th>\n",
              "      <th>2020</th>\n",
              "      <th>2021</th>\n",
              "      <th>0</th>\n",
              "    </tr>\n",
              "  </thead>\n",
              "  <tbody>\n",
              "    <tr>\n",
              "      <th>count</th>\n",
              "      <td>1</td>\n",
              "      <td>1</td>\n",
              "      <td>1</td>\n",
              "      <td>11</td>\n",
              "      <td>5</td>\n",
              "      <td>10</td>\n",
              "      <td>20</td>\n",
              "      <td>12</td>\n",
              "      <td>9</td>\n",
              "      <td>5</td>\n",
              "      <td>...</td>\n",
              "      <td>431</td>\n",
              "      <td>474</td>\n",
              "      <td>572</td>\n",
              "      <td>644</td>\n",
              "      <td>623</td>\n",
              "      <td>538</td>\n",
              "      <td>546</td>\n",
              "      <td>502</td>\n",
              "      <td>433</td>\n",
              "      <td>0</td>\n",
              "    </tr>\n",
              "    <tr>\n",
              "      <th>count</th>\n",
              "      <td>0</td>\n",
              "      <td>0</td>\n",
              "      <td>0</td>\n",
              "      <td>0</td>\n",
              "      <td>0</td>\n",
              "      <td>0</td>\n",
              "      <td>0</td>\n",
              "      <td>0</td>\n",
              "      <td>0</td>\n",
              "      <td>0</td>\n",
              "      <td>...</td>\n",
              "      <td>374</td>\n",
              "      <td>396</td>\n",
              "      <td>447</td>\n",
              "      <td>469</td>\n",
              "      <td>612</td>\n",
              "      <td>518</td>\n",
              "      <td>514</td>\n",
              "      <td>515</td>\n",
              "      <td>349</td>\n",
              "      <td>3955</td>\n",
              "    </tr>\n",
              "  </tbody>\n",
              "</table>\n",
              "<p>2 rows × 59 columns</p>\n",
              "</div>"
            ],
            "text/plain": [
              "       1952  1965  1966  1967  1968  1969  1970  1971  1972  1973  ...  2013  \\\n",
              "count     1     1     1    11     5    10    20    12     9     5  ...   431   \n",
              "count     0     0     0     0     0     0     0     0     0     0  ...   374   \n",
              "\n",
              "       2014  2015  2016  2017  2018  2019  2020  2021  0     \n",
              "count   474   572   644   623   538   546   502   433     0  \n",
              "count   396   447   469   612   518   514   515   349  3955  \n",
              "\n",
              "[2 rows x 59 columns]"
            ]
          },
          "execution_count": 324,
          "metadata": {},
          "output_type": "execute_result"
        }
      ],
      "source": [
        "# [4-24] temp의 결측치를 0으로 채우기 한 뒤, 'int64'로 변경합니다.\n",
        "temp.fillna(0).astype('int64')"
      ]
    },
    {
      "cell_type": "markdown",
      "metadata": {
        "id": "PxFSyM6W2I8h"
      },
      "source": [
        "#### 그래프 그리기"
      ]
    },
    {
      "cell_type": "code",
      "execution_count": 325,
      "metadata": {
        "colab": {
          "base_uri": "https://localhost:8080/",
          "height": 339
        },
        "id": "a_LS8p-wKw4J",
        "outputId": "720fc29c-60b1-41e0-948f-bcee7cdd8587"
      },
      "outputs": [],
      "source": [
        "# [4-25] 년도별 제과정 개업, 폐업에 대한 선 그래프 그리기\n",
        "import koreanize_matplotlib\n",
        "\n"
      ]
    },
    {
      "cell_type": "markdown",
      "metadata": {
        "id": "Cu0LI4Rzw7H_"
      },
      "source": [
        "### 3-6.평균 영업기간 분석"
      ]
    },
    {
      "cell_type": "markdown",
      "metadata": {
        "id": "qGmftF_Y3tre"
      },
      "source": [
        "특정 문자열이 포함된 행 가져오기\n",
        "- Series.str.contains(문자열) : 문자열이 포함된 행은 True, 아니면 False인 Series 반환\n",
        "- DataFrame.loc[조건, :] : 조건이 True인 행만 가져오기"
      ]
    },
    {
      "cell_type": "code",
      "execution_count": 326,
      "metadata": {
        "id": "cGxCGLiTFJ6H"
      },
      "outputs": [
        {
          "data": {
            "text/html": [
              "<div>\n",
              "<style scoped>\n",
              "    .dataframe tbody tr th:only-of-type {\n",
              "        vertical-align: middle;\n",
              "    }\n",
              "\n",
              "    .dataframe tbody tr th {\n",
              "        vertical-align: top;\n",
              "    }\n",
              "\n",
              "    .dataframe thead th {\n",
              "        text-align: right;\n",
              "    }\n",
              "</style>\n",
              "<table border=\"1\" class=\"dataframe\">\n",
              "  <thead>\n",
              "    <tr style=\"text-align: right;\">\n",
              "      <th></th>\n",
              "      <th>인허가일자</th>\n",
              "      <th>상태코드</th>\n",
              "      <th>폐업일자</th>\n",
              "      <th>사업장명</th>\n",
              "      <th>구명</th>\n",
              "      <th>동명</th>\n",
              "      <th>설립년도</th>\n",
              "      <th>폐업년도</th>\n",
              "      <th>영업기간</th>\n",
              "    </tr>\n",
              "  </thead>\n",
              "  <tbody>\n",
              "    <tr>\n",
              "      <th>0</th>\n",
              "      <td>20010713</td>\n",
              "      <td>1</td>\n",
              "      <td>0</td>\n",
              "      <td>파리바게뜨(역촌역점)</td>\n",
              "      <td>은평구</td>\n",
              "      <td>대조동</td>\n",
              "      <td>2001</td>\n",
              "      <td>0</td>\n",
              "      <td>21.0</td>\n",
              "    </tr>\n",
              "    <tr>\n",
              "      <th>1</th>\n",
              "      <td>20030507</td>\n",
              "      <td>1</td>\n",
              "      <td>0</td>\n",
              "      <td>파리바게뜨</td>\n",
              "      <td>은평구</td>\n",
              "      <td>갈현동</td>\n",
              "      <td>2003</td>\n",
              "      <td>0</td>\n",
              "      <td>19.0</td>\n",
              "    </tr>\n",
              "    <tr>\n",
              "      <th>6</th>\n",
              "      <td>20060417</td>\n",
              "      <td>1</td>\n",
              "      <td>0</td>\n",
              "      <td>파리바게뜨(우림시장점)</td>\n",
              "      <td>중랑구</td>\n",
              "      <td>망우동</td>\n",
              "      <td>2006</td>\n",
              "      <td>0</td>\n",
              "      <td>16.0</td>\n",
              "    </tr>\n",
              "  </tbody>\n",
              "</table>\n",
              "</div>"
            ],
            "text/plain": [
              "      인허가일자  상태코드  폐업일자          사업장명   구명   동명  설립년도  폐업년도  영업기간\n",
              "0  20010713     1     0   파리바게뜨(역촌역점)  은평구  대조동  2001     0  21.0\n",
              "1  20030507     1     0         파리바게뜨  은평구  갈현동  2003     0  19.0\n",
              "6  20060417     1     0  파리바게뜨(우림시장점)  중랑구  망우동  2006     0  16.0"
            ]
          },
          "execution_count": 326,
          "metadata": {},
          "output_type": "execute_result"
        }
      ],
      "source": [
        "# [4-26] bread에서 '사업장명' 컬럼을 사용하여\n",
        "# '파리바게트', '파리바게뜨' 이름인 곳을 뽑아 paris로 이름 붙입니다.\n",
        "paris = bread[bread['사업장명'].str.contains('파리바게')]\n",
        "paris.head(3)"
      ]
    },
    {
      "cell_type": "code",
      "execution_count": 327,
      "metadata": {
        "id": "7Jct79HKFfp7"
      },
      "outputs": [
        {
          "data": {
            "text/html": [
              "<div>\n",
              "<style scoped>\n",
              "    .dataframe tbody tr th:only-of-type {\n",
              "        vertical-align: middle;\n",
              "    }\n",
              "\n",
              "    .dataframe tbody tr th {\n",
              "        vertical-align: top;\n",
              "    }\n",
              "\n",
              "    .dataframe thead th {\n",
              "        text-align: right;\n",
              "    }\n",
              "</style>\n",
              "<table border=\"1\" class=\"dataframe\">\n",
              "  <thead>\n",
              "    <tr style=\"text-align: right;\">\n",
              "      <th></th>\n",
              "      <th>인허가일자</th>\n",
              "      <th>상태코드</th>\n",
              "      <th>폐업일자</th>\n",
              "      <th>사업장명</th>\n",
              "      <th>구명</th>\n",
              "      <th>동명</th>\n",
              "      <th>설립년도</th>\n",
              "      <th>폐업년도</th>\n",
              "      <th>영업기간</th>\n",
              "    </tr>\n",
              "  </thead>\n",
              "  <tbody>\n",
              "    <tr>\n",
              "      <th>5</th>\n",
              "      <td>20050412</td>\n",
              "      <td>1</td>\n",
              "      <td>0</td>\n",
              "      <td>뚜레쥬르</td>\n",
              "      <td>중랑구</td>\n",
              "      <td>신내동</td>\n",
              "      <td>2005</td>\n",
              "      <td>0</td>\n",
              "      <td>17.0</td>\n",
              "    </tr>\n",
              "    <tr>\n",
              "      <th>7</th>\n",
              "      <td>20060822</td>\n",
              "      <td>1</td>\n",
              "      <td>0</td>\n",
              "      <td>뚜레쥬르사가정역점</td>\n",
              "      <td>중랑구</td>\n",
              "      <td>면목동</td>\n",
              "      <td>2006</td>\n",
              "      <td>0</td>\n",
              "      <td>16.0</td>\n",
              "    </tr>\n",
              "    <tr>\n",
              "      <th>14</th>\n",
              "      <td>20070416</td>\n",
              "      <td>1</td>\n",
              "      <td>0</td>\n",
              "      <td>뚜레쥬르용마산역점</td>\n",
              "      <td>중랑구</td>\n",
              "      <td>면목동</td>\n",
              "      <td>2007</td>\n",
              "      <td>0</td>\n",
              "      <td>15.0</td>\n",
              "    </tr>\n",
              "  </tbody>\n",
              "</table>\n",
              "</div>"
            ],
            "text/plain": [
              "       인허가일자  상태코드  폐업일자       사업장명   구명   동명  설립년도  폐업년도  영업기간\n",
              "5   20050412     1     0       뚜레쥬르  중랑구  신내동  2005     0  17.0\n",
              "7   20060822     1     0  뚜레쥬르사가정역점  중랑구  면목동  2006     0  16.0\n",
              "14  20070416     1     0  뚜레쥬르용마산역점  중랑구  면목동  2007     0  15.0"
            ]
          },
          "execution_count": 327,
          "metadata": {},
          "output_type": "execute_result"
        }
      ],
      "source": [
        "# [4-27] bread에서 '사업장명' 컬럼을 사용하여\n",
        "# '뚜레쥬르' 이름인 곳을 뽑아 tous로 이름 붙입니다.\n",
        "tous = bread[bread['사업장명'].str.contains('뚜레쥬르')]\n",
        "tous.head(3)"
      ]
    },
    {
      "cell_type": "markdown",
      "metadata": {
        "id": "ADq6kuxE4jgz"
      },
      "source": [
        "통계값 알아보기\n",
        "- Series.count() : 개수\n",
        "- Series.sum() : 합계\n",
        "- Series.mean() : 평균\n",
        "- Series.std() : 표준편차\n",
        "- Series.var() : 분산\n",
        "- Series.median() : 중앙값\n",
        "- Series.mode() : 최빈값\n",
        "- Series.cumsum() : 누적합\n",
        "- Series.quantile([0.25, 05, 0.75]) : 분위수"
      ]
    },
    {
      "cell_type": "code",
      "execution_count": 328,
      "metadata": {
        "id": "KLrd5-7PE7FE"
      },
      "outputs": [
        {
          "data": {
            "text/html": [
              "<div>\n",
              "<style scoped>\n",
              "    .dataframe tbody tr th:only-of-type {\n",
              "        vertical-align: middle;\n",
              "    }\n",
              "\n",
              "    .dataframe tbody tr th {\n",
              "        vertical-align: top;\n",
              "    }\n",
              "\n",
              "    .dataframe thead th {\n",
              "        text-align: right;\n",
              "    }\n",
              "</style>\n",
              "<table border=\"1\" class=\"dataframe\">\n",
              "  <thead>\n",
              "    <tr style=\"text-align: right;\">\n",
              "      <th></th>\n",
              "      <th>영업</th>\n",
              "    </tr>\n",
              "  </thead>\n",
              "  <tbody>\n",
              "    <tr>\n",
              "      <th>파리바게트</th>\n",
              "      <td>12.357022</td>\n",
              "    </tr>\n",
              "    <tr>\n",
              "      <th>뚜레쥬르</th>\n",
              "      <td>9.796296</td>\n",
              "    </tr>\n",
              "  </tbody>\n",
              "</table>\n",
              "</div>"
            ],
            "text/plain": [
              "              영업\n",
              "파리바게트  12.357022\n",
              "뚜레쥬르    9.796296"
            ]
          },
          "execution_count": 328,
          "metadata": {},
          "output_type": "execute_result"
        }
      ],
      "source": [
        "# [4-28] 설립년도가 2000년 이후이면서 영업 중인 곳의 영업기간 정보를 구합니다.\n",
        "# paris, tous에 대해 각각 구해서 temp1, temp2로 이름 붙입니다.\n",
        "temp1 = paris.loc[(paris['설립년도'] >= 2000) & (paris['폐업년도'] == 0), '영업기간']\n",
        "temp2 = tous.loc[(tous['설립년도'] >= 2000) & (tous['폐업년도'] == 0), '영업기간']\n",
        "temp2\n",
        "# temp1, temp2의 영업기간 평균을 구해 이름을 comp로 하는 DataFrame으로 만듭니다.\n",
        "# index => ['파리바게트', '뚜레쥬르'], columns => ['영업']\n",
        "s = pd.Series([temp1.mean(), temp2.mean()] , index=['파리바게트', '뚜레쥬르'])\n",
        "comp = pd.DataFrame(s, columns=['영업'])\n",
        "comp"
      ]
    },
    {
      "cell_type": "code",
      "execution_count": 329,
      "metadata": {
        "id": "-qB26SpAGtYA"
      },
      "outputs": [
        {
          "data": {
            "text/html": [
              "<div>\n",
              "<style scoped>\n",
              "    .dataframe tbody tr th:only-of-type {\n",
              "        vertical-align: middle;\n",
              "    }\n",
              "\n",
              "    .dataframe tbody tr th {\n",
              "        vertical-align: top;\n",
              "    }\n",
              "\n",
              "    .dataframe thead th {\n",
              "        text-align: right;\n",
              "    }\n",
              "</style>\n",
              "<table border=\"1\" class=\"dataframe\">\n",
              "  <thead>\n",
              "    <tr style=\"text-align: right;\">\n",
              "      <th></th>\n",
              "      <th>영업</th>\n",
              "      <th>폐업</th>\n",
              "    </tr>\n",
              "  </thead>\n",
              "  <tbody>\n",
              "    <tr>\n",
              "      <th>파리바게트</th>\n",
              "      <td>12.357022</td>\n",
              "      <td>7.712687</td>\n",
              "    </tr>\n",
              "    <tr>\n",
              "      <th>뚜레쥬르</th>\n",
              "      <td>9.796296</td>\n",
              "      <td>7.309028</td>\n",
              "    </tr>\n",
              "  </tbody>\n",
              "</table>\n",
              "</div>"
            ],
            "text/plain": [
              "              영업        폐업\n",
              "파리바게트  12.357022  7.712687\n",
              "뚜레쥬르    9.796296  7.309028"
            ]
          },
          "execution_count": 329,
          "metadata": {},
          "output_type": "execute_result"
        }
      ],
      "source": [
        "# [4-29] 설립년도 2000년 이후이면서 폐업한 곳의 영업기간 정보를 구합니다.\n",
        "# paris, tous에 대해 각각 구해서 temp1, temp2로 이름 붙입니다.\n",
        "temp1 = paris.loc[(paris['설립년도'] >= 2000) & (paris['상태코드'] == 2), '영업기간']\n",
        "temp2 = tous.loc[(tous['설립년도'] >= 2000) & (tous['상태코드'] == 2), '영업기간']\n",
        "temp2\n",
        "# temp1, temp2의 평균을 구해 comp에 '폐업' 컬럼으로 추가합니다.\n",
        "s = pd.Series([temp1.mean(), temp2.mean()] , index=['파리바게트', '뚜레쥬르'])\n",
        "comp['폐업'] = [temp1.mean(), temp2.mean()]\n",
        "comp"
      ]
    },
    {
      "cell_type": "code",
      "execution_count": 330,
      "metadata": {
        "id": "iTrYtbrdG0uY"
      },
      "outputs": [
        {
          "data": {
            "text/html": [
              "<div>\n",
              "<style scoped>\n",
              "    .dataframe tbody tr th:only-of-type {\n",
              "        vertical-align: middle;\n",
              "    }\n",
              "\n",
              "    .dataframe tbody tr th {\n",
              "        vertical-align: top;\n",
              "    }\n",
              "\n",
              "    .dataframe thead th {\n",
              "        text-align: right;\n",
              "    }\n",
              "</style>\n",
              "<table border=\"1\" class=\"dataframe\">\n",
              "  <thead>\n",
              "    <tr style=\"text-align: right;\">\n",
              "      <th></th>\n",
              "      <th>인허가일자</th>\n",
              "      <th>상태코드</th>\n",
              "      <th>폐업일자</th>\n",
              "      <th>사업장명</th>\n",
              "      <th>구명</th>\n",
              "      <th>동명</th>\n",
              "      <th>설립년도</th>\n",
              "      <th>폐업년도</th>\n",
              "      <th>영업기간</th>\n",
              "    </tr>\n",
              "  </thead>\n",
              "  <tbody>\n",
              "    <tr>\n",
              "      <th>2</th>\n",
              "      <td>20021011</td>\n",
              "      <td>1</td>\n",
              "      <td>0</td>\n",
              "      <td>신라명과(역촌현대점)</td>\n",
              "      <td>은평구</td>\n",
              "      <td>녹번동</td>\n",
              "      <td>2002</td>\n",
              "      <td>0</td>\n",
              "      <td>20.0</td>\n",
              "    </tr>\n",
              "    <tr>\n",
              "      <th>3</th>\n",
              "      <td>20011015</td>\n",
              "      <td>1</td>\n",
              "      <td>0</td>\n",
              "      <td>브르망</td>\n",
              "      <td>은평구</td>\n",
              "      <td>불광동</td>\n",
              "      <td>2001</td>\n",
              "      <td>0</td>\n",
              "      <td>21.0</td>\n",
              "    </tr>\n",
              "    <tr>\n",
              "      <th>4</th>\n",
              "      <td>20050406</td>\n",
              "      <td>1</td>\n",
              "      <td>0</td>\n",
              "      <td>케잌하우스밀레</td>\n",
              "      <td>중랑구</td>\n",
              "      <td>중화동</td>\n",
              "      <td>2005</td>\n",
              "      <td>0</td>\n",
              "      <td>17.0</td>\n",
              "    </tr>\n",
              "  </tbody>\n",
              "</table>\n",
              "</div>"
            ],
            "text/plain": [
              "      인허가일자  상태코드  폐업일자         사업장명   구명   동명  설립년도  폐업년도  영업기간\n",
              "2  20021011     1     0  신라명과(역촌현대점)  은평구  녹번동  2002     0  20.0\n",
              "3  20011015     1     0          브르망  은평구  불광동  2001     0  21.0\n",
              "4  20050406     1     0      케잌하우스밀레  중랑구  중화동  2005     0  17.0"
            ]
          },
          "execution_count": 330,
          "metadata": {},
          "output_type": "execute_result"
        }
      ],
      "source": [
        "# [4-30] 파리바게트, 뚜레쥬르가 아닌 다른 사업장에 대한 정보를 찾아 other로 이름 붙입니다.\n",
        "condition1 = bread['사업장명'].str.contains('파리바게')\n",
        "condition2 = bread['사업장명'].str.contains('뚜레쥬르')\n",
        "other = bread.loc[ ~(condition1 | condition2), :]\n",
        "# other의 행, 열 정보를 확인합니다.\n",
        "other.head(3)"
      ]
    },
    {
      "cell_type": "code",
      "execution_count": 331,
      "metadata": {
        "id": "ox4gRtkWHbcx"
      },
      "outputs": [
        {
          "data": {
            "text/html": [
              "<div>\n",
              "<style scoped>\n",
              "    .dataframe tbody tr th:only-of-type {\n",
              "        vertical-align: middle;\n",
              "    }\n",
              "\n",
              "    .dataframe tbody tr th {\n",
              "        vertical-align: top;\n",
              "    }\n",
              "\n",
              "    .dataframe thead th {\n",
              "        text-align: right;\n",
              "    }\n",
              "</style>\n",
              "<table border=\"1\" class=\"dataframe\">\n",
              "  <thead>\n",
              "    <tr style=\"text-align: right;\">\n",
              "      <th></th>\n",
              "      <th>영업</th>\n",
              "      <th>폐업</th>\n",
              "    </tr>\n",
              "  </thead>\n",
              "  <tbody>\n",
              "    <tr>\n",
              "      <th>파리바게트</th>\n",
              "      <td>12.357022</td>\n",
              "      <td>7.712687</td>\n",
              "    </tr>\n",
              "    <tr>\n",
              "      <th>뚜레쥬르</th>\n",
              "      <td>9.796296</td>\n",
              "      <td>7.309028</td>\n",
              "    </tr>\n",
              "    <tr>\n",
              "      <th>나머지</th>\n",
              "      <td>6.332259</td>\n",
              "      <td>4.619193</td>\n",
              "    </tr>\n",
              "  </tbody>\n",
              "</table>\n",
              "</div>"
            ],
            "text/plain": [
              "              영업        폐업\n",
              "파리바게트  12.357022  7.712687\n",
              "뚜레쥬르    9.796296  7.309028\n",
              "나머지     6.332259  4.619193"
            ]
          },
          "execution_count": 331,
          "metadata": {},
          "output_type": "execute_result"
        }
      ],
      "source": [
        "# [4-31] other의 2000년 이후 설립된 곳의 영업, 폐업 사업장을 구한 뒤\n",
        "# temp1, temp2 이름을 붙입니다.\n",
        "temp1 = other.loc[(other['설립년도'] >= 2000) & (other['상태코드'] == 1), '영업기간']\n",
        "temp2 = other.loc[(other['설립년도'] >= 2000) & (other['상태코드'] == 2), '영업기간']\n",
        "\n",
        "# temp1, temp2의 평균을 구해 comp 에 '나머지' 행으로 추가합니다.\n",
        "temp = pd.DataFrame([[temp1.mean(), temp2.mean()]], index = ['나머지'], columns=['영업', '폐업'])\n",
        "comp = pd.concat([comp,temp])\n",
        "comp"
      ]
    },
    {
      "cell_type": "markdown",
      "metadata": {
        "id": "pn_q-oJ3xXwO"
      },
      "source": [
        "### 3-7.폐업비율 분석\n"
      ]
    },
    {
      "cell_type": "code",
      "execution_count": 332,
      "metadata": {
        "id": "HbMsZGoIIeQq"
      },
      "outputs": [
        {
          "data": {
            "text/html": [
              "<div>\n",
              "<style scoped>\n",
              "    .dataframe tbody tr th:only-of-type {\n",
              "        vertical-align: middle;\n",
              "    }\n",
              "\n",
              "    .dataframe tbody tr th {\n",
              "        vertical-align: top;\n",
              "    }\n",
              "\n",
              "    .dataframe thead th {\n",
              "        text-align: right;\n",
              "    }\n",
              "</style>\n",
              "<table border=\"1\" class=\"dataframe\">\n",
              "  <thead>\n",
              "    <tr style=\"text-align: right;\">\n",
              "      <th></th>\n",
              "      <th>count</th>\n",
              "    </tr>\n",
              "    <tr>\n",
              "      <th>구명</th>\n",
              "      <th></th>\n",
              "    </tr>\n",
              "  </thead>\n",
              "  <tbody>\n",
              "    <tr>\n",
              "      <th>강남구</th>\n",
              "      <td>59</td>\n",
              "    </tr>\n",
              "    <tr>\n",
              "      <th>송파구</th>\n",
              "      <td>49</td>\n",
              "    </tr>\n",
              "  </tbody>\n",
              "</table>\n",
              "</div>"
            ],
            "text/plain": [
              "     count\n",
              "구명        \n",
              "강남구     59\n",
              "송파구     49"
            ]
          },
          "execution_count": 332,
          "metadata": {},
          "output_type": "execute_result"
        }
      ],
      "source": [
        "# [4-32] paris에서 영업 중인 곳에 대해 '시군구명'별 개수를 구해 DataFrame으로 변환하고\n",
        "# temp로 이름 붙인 뒤, 첫 2개 행을 출력한다\n",
        "temp = paris.loc[paris['상태코드']==1, '구명'].value_counts().to_frame()\n",
        "temp.head(2)"
      ]
    },
    {
      "cell_type": "markdown",
      "metadata": {
        "id": "5MANJnlK84Nf"
      },
      "source": [
        " DataFrame.reset_index()\n",
        " - index의 내용을 columns로 이동함"
      ]
    },
    {
      "cell_type": "code",
      "execution_count": 333,
      "metadata": {
        "id": "GAVmZxYUHlCy"
      },
      "outputs": [
        {
          "data": {
            "text/html": [
              "<div>\n",
              "<style scoped>\n",
              "    .dataframe tbody tr th:only-of-type {\n",
              "        vertical-align: middle;\n",
              "    }\n",
              "\n",
              "    .dataframe tbody tr th {\n",
              "        vertical-align: top;\n",
              "    }\n",
              "\n",
              "    .dataframe thead th {\n",
              "        text-align: right;\n",
              "    }\n",
              "</style>\n",
              "<table border=\"1\" class=\"dataframe\">\n",
              "  <thead>\n",
              "    <tr style=\"text-align: right;\">\n",
              "      <th></th>\n",
              "      <th>index</th>\n",
              "      <th>구명</th>\n",
              "      <th>폐업</th>\n",
              "    </tr>\n",
              "  </thead>\n",
              "  <tbody>\n",
              "    <tr>\n",
              "      <th>0</th>\n",
              "      <td>강남구</td>\n",
              "      <td>59</td>\n",
              "      <td>28</td>\n",
              "    </tr>\n",
              "    <tr>\n",
              "      <th>1</th>\n",
              "      <td>송파구</td>\n",
              "      <td>49</td>\n",
              "      <td>20</td>\n",
              "    </tr>\n",
              "    <tr>\n",
              "      <th>2</th>\n",
              "      <td>서초구</td>\n",
              "      <td>38</td>\n",
              "      <td>24</td>\n",
              "    </tr>\n",
              "    <tr>\n",
              "      <th>3</th>\n",
              "      <td>영등포구</td>\n",
              "      <td>37</td>\n",
              "      <td>22</td>\n",
              "    </tr>\n",
              "    <tr>\n",
              "      <th>4</th>\n",
              "      <td>강서구</td>\n",
              "      <td>34</td>\n",
              "      <td>13</td>\n",
              "    </tr>\n",
              "  </tbody>\n",
              "</table>\n",
              "</div>"
            ],
            "text/plain": [
              "  index  구명  폐업\n",
              "0   강남구  59  28\n",
              "1   송파구  49  20\n",
              "2   서초구  38  24\n",
              "3  영등포구  37  22\n",
              "4   강서구  34  13"
            ]
          },
          "execution_count": 333,
          "metadata": {},
          "output_type": "execute_result"
        }
      ],
      "source": [
        "# [4-33] paris에서 폐업한 곳에 대해 '구명'별 개수를 구해\n",
        "# temp에 '폐업'이라는 컬럼으로 추가하고,\n",
        "# reset_index()를 사용하여 index를 columns로 사용되도록 한다. (temp2로 다시 저장)\n",
        "temp['폐업'] = paris.loc[paris['상태코드']==2, '구명'].value_counts()\n",
        "temp2 = temp.reset_index()\n",
        "temp2.columns = ['index', '구명', '폐업']\n",
        "temp2.head(5)\n"
      ]
    },
    {
      "cell_type": "markdown",
      "metadata": {
        "id": "EUc-HlsE-CQo"
      },
      "source": [
        "DataFrame의 모든 컬럼이름 변경\n",
        "- DataFrame.columns = [컬럼이름1, 컬럼이름2, ...]\n",
        "- 기존 컬럼의 개수와 같아야 함"
      ]
    },
    {
      "cell_type": "code",
      "execution_count": 334,
      "metadata": {
        "id": "I7GmFjSBHhgJ"
      },
      "outputs": [
        {
          "data": {
            "text/html": [
              "<div>\n",
              "<style scoped>\n",
              "    .dataframe tbody tr th:only-of-type {\n",
              "        vertical-align: middle;\n",
              "    }\n",
              "\n",
              "    .dataframe tbody tr th {\n",
              "        vertical-align: top;\n",
              "    }\n",
              "\n",
              "    .dataframe thead th {\n",
              "        text-align: right;\n",
              "    }\n",
              "</style>\n",
              "<table border=\"1\" class=\"dataframe\">\n",
              "  <thead>\n",
              "    <tr style=\"text-align: right;\">\n",
              "      <th></th>\n",
              "      <th>구</th>\n",
              "      <th>영업</th>\n",
              "      <th>폐업</th>\n",
              "    </tr>\n",
              "  </thead>\n",
              "  <tbody>\n",
              "    <tr>\n",
              "      <th>0</th>\n",
              "      <td>강남구</td>\n",
              "      <td>59</td>\n",
              "      <td>28</td>\n",
              "    </tr>\n",
              "    <tr>\n",
              "      <th>1</th>\n",
              "      <td>송파구</td>\n",
              "      <td>49</td>\n",
              "      <td>20</td>\n",
              "    </tr>\n",
              "  </tbody>\n",
              "</table>\n",
              "</div>"
            ],
            "text/plain": [
              "     구  영업  폐업\n",
              "0  강남구  59  28\n",
              "1  송파구  49  20"
            ]
          },
          "execution_count": 334,
          "metadata": {},
          "output_type": "execute_result"
        }
      ],
      "source": [
        "# [4-34] temp2의 컬럼명을 ['구', '영업', '폐업']으로 변경한다\n",
        "temp2.columns = ['구', '영업', '폐업']\n",
        "# temp2의 첫 2개 행을 출력한다\n",
        "temp2.head(2)"
      ]
    },
    {
      "cell_type": "code",
      "execution_count": 335,
      "metadata": {
        "id": "3E-dbScjJ-ww"
      },
      "outputs": [
        {
          "data": {
            "text/html": [
              "<div>\n",
              "<style scoped>\n",
              "    .dataframe tbody tr th:only-of-type {\n",
              "        vertical-align: middle;\n",
              "    }\n",
              "\n",
              "    .dataframe tbody tr th {\n",
              "        vertical-align: top;\n",
              "    }\n",
              "\n",
              "    .dataframe thead th {\n",
              "        text-align: right;\n",
              "    }\n",
              "</style>\n",
              "<table border=\"1\" class=\"dataframe\">\n",
              "  <thead>\n",
              "    <tr style=\"text-align: right;\">\n",
              "      <th></th>\n",
              "      <th>구</th>\n",
              "      <th>영업</th>\n",
              "      <th>폐업</th>\n",
              "      <th>폐업비율</th>\n",
              "    </tr>\n",
              "  </thead>\n",
              "  <tbody>\n",
              "    <tr>\n",
              "      <th>0</th>\n",
              "      <td>강남구</td>\n",
              "      <td>59</td>\n",
              "      <td>28</td>\n",
              "      <td>32.2</td>\n",
              "    </tr>\n",
              "    <tr>\n",
              "      <th>1</th>\n",
              "      <td>송파구</td>\n",
              "      <td>49</td>\n",
              "      <td>20</td>\n",
              "      <td>29.0</td>\n",
              "    </tr>\n",
              "    <tr>\n",
              "      <th>2</th>\n",
              "      <td>서초구</td>\n",
              "      <td>38</td>\n",
              "      <td>24</td>\n",
              "      <td>38.7</td>\n",
              "    </tr>\n",
              "  </tbody>\n",
              "</table>\n",
              "</div>"
            ],
            "text/plain": [
              "     구  영업  폐업  폐업비율\n",
              "0  강남구  59  28  32.2\n",
              "1  송파구  49  20  29.0\n",
              "2  서초구  38  24  38.7"
            ]
          },
          "execution_count": 335,
          "metadata": {},
          "output_type": "execute_result"
        }
      ],
      "source": [
        "# [4-35] temp2에 '폐업비율' 컬럼을 추가한다\n",
        "# 폐업비율 = 폐업 / (폐업 + 영업) * 100\n",
        "temp2['폐업비율'] = temp2['폐업'] / (temp2['폐업'] + temp2['영업']) * 100\n",
        "# temp2의 첫 3개 행을 출력한다\n",
        "temp2['폐업비율'] = temp2['폐업비율'].round(1)\n",
        "temp2.head(3)"
      ]
    },
    {
      "cell_type": "markdown",
      "metadata": {
        "id": "4X0k7Gx5-qZ1"
      },
      "source": [
        "데이터 정렬\n",
        "- DataFrame.sort_values('컬럼이름') : 주어진 컬럼을 기준으로 데이터를 오름차순 정렬\n",
        "- DataFrame.sort_values('컬럼이름', ascending=False) : 내림차순 정렬\n",
        "- DataFrame.sort_values(['컬럼이름1', '컬럼이름2'..]) : 다차 정렬"
      ]
    },
    {
      "cell_type": "code",
      "execution_count": 337,
      "metadata": {
        "id": "4x-8AVRZKLHP"
      },
      "outputs": [
        {
          "data": {
            "text/html": [
              "<div>\n",
              "<style scoped>\n",
              "    .dataframe tbody tr th:only-of-type {\n",
              "        vertical-align: middle;\n",
              "    }\n",
              "\n",
              "    .dataframe tbody tr th {\n",
              "        vertical-align: top;\n",
              "    }\n",
              "\n",
              "    .dataframe thead th {\n",
              "        text-align: right;\n",
              "    }\n",
              "</style>\n",
              "<table border=\"1\" class=\"dataframe\">\n",
              "  <thead>\n",
              "    <tr style=\"text-align: right;\">\n",
              "      <th></th>\n",
              "      <th>구</th>\n",
              "      <th>영업</th>\n",
              "      <th>폐업</th>\n",
              "      <th>폐업비율</th>\n",
              "    </tr>\n",
              "  </thead>\n",
              "  <tbody>\n",
              "    <tr>\n",
              "      <th>6</th>\n",
              "      <td>은평구</td>\n",
              "      <td>33</td>\n",
              "      <td>6</td>\n",
              "      <td>15.4</td>\n",
              "    </tr>\n",
              "    <tr>\n",
              "      <th>12</th>\n",
              "      <td>동대문구</td>\n",
              "      <td>27</td>\n",
              "      <td>5</td>\n",
              "      <td>15.6</td>\n",
              "    </tr>\n",
              "    <tr>\n",
              "      <th>17</th>\n",
              "      <td>도봉구</td>\n",
              "      <td>21</td>\n",
              "      <td>4</td>\n",
              "      <td>16.0</td>\n",
              "    </tr>\n",
              "    <tr>\n",
              "      <th>8</th>\n",
              "      <td>구로구</td>\n",
              "      <td>30</td>\n",
              "      <td>10</td>\n",
              "      <td>25.0</td>\n",
              "    </tr>\n",
              "    <tr>\n",
              "      <th>23</th>\n",
              "      <td>강북구</td>\n",
              "      <td>16</td>\n",
              "      <td>6</td>\n",
              "      <td>27.3</td>\n",
              "    </tr>\n",
              "  </tbody>\n",
              "</table>\n",
              "</div>"
            ],
            "text/plain": [
              "       구  영업  폐업  폐업비율\n",
              "6    은평구  33   6  15.4\n",
              "12  동대문구  27   5  15.6\n",
              "17   도봉구  21   4  16.0\n",
              "8    구로구  30  10  25.0\n",
              "23   강북구  16   6  27.3"
            ]
          },
          "execution_count": 337,
          "metadata": {},
          "output_type": "execute_result"
        }
      ],
      "source": [
        "# [4-36] temp2를 폐업비율을 기준으로 오름차순 정렬하여 TOP5를 출력한다\n",
        "# 폐업비율이 가장 작은 곳은 은평구, 동대문구 ... 등으로 정보를 찾게 됨\n",
        "temp2.sort_values('폐업비율').head()"
      ]
    },
    {
      "cell_type": "markdown",
      "metadata": {
        "id": "CVFNi4qovWnK"
      },
      "source": [
        "Series.quantile([rate1, rate2, ...])\n",
        "- 데이터를 순서대로 나열했을 때, 특정 비율 위치의 값을 구함\n",
        "- 0 : 가장 작은 것의 값\n",
        "- 1 : 가장 큰 것의 값\n",
        "\n",
        "Series.quantile([0.3, 0.9])\n",
        "- 0.3 : 하위 30% 위치\n",
        "- 0.9 : 상위 10% 위치"
      ]
    },
    {
      "cell_type": "code",
      "execution_count": null,
      "metadata": {
        "id": "8hzcNoZ2u81e"
      },
      "outputs": [
        {
          "data": {
            "text/html": [
              "<div>\n",
              "<style scoped>\n",
              "    .dataframe tbody tr th:only-of-type {\n",
              "        vertical-align: middle;\n",
              "    }\n",
              "\n",
              "    .dataframe tbody tr th {\n",
              "        vertical-align: top;\n",
              "    }\n",
              "\n",
              "    .dataframe thead th {\n",
              "        text-align: right;\n",
              "    }\n",
              "</style>\n",
              "<table border=\"1\" class=\"dataframe\">\n",
              "  <thead>\n",
              "    <tr style=\"text-align: right;\">\n",
              "      <th></th>\n",
              "      <th>구</th>\n",
              "      <th>영업</th>\n",
              "      <th>폐업</th>\n",
              "      <th>폐업비율</th>\n",
              "    </tr>\n",
              "  </thead>\n",
              "  <tbody>\n",
              "    <tr>\n",
              "      <th>1</th>\n",
              "      <td>송파구</td>\n",
              "      <td>49</td>\n",
              "      <td>20</td>\n",
              "      <td>29.0</td>\n",
              "    </tr>\n",
              "    <tr>\n",
              "      <th>4</th>\n",
              "      <td>강서구</td>\n",
              "      <td>34</td>\n",
              "      <td>13</td>\n",
              "      <td>27.7</td>\n",
              "    </tr>\n",
              "    <tr>\n",
              "      <th>6</th>\n",
              "      <td>은평구</td>\n",
              "      <td>33</td>\n",
              "      <td>6</td>\n",
              "      <td>15.4</td>\n",
              "    </tr>\n",
              "    <tr>\n",
              "      <th>8</th>\n",
              "      <td>구로구</td>\n",
              "      <td>30</td>\n",
              "      <td>10</td>\n",
              "      <td>25.0</td>\n",
              "    </tr>\n",
              "    <tr>\n",
              "      <th>12</th>\n",
              "      <td>동대문구</td>\n",
              "      <td>27</td>\n",
              "      <td>5</td>\n",
              "      <td>15.6</td>\n",
              "    </tr>\n",
              "    <tr>\n",
              "      <th>15</th>\n",
              "      <td>성동구</td>\n",
              "      <td>26</td>\n",
              "      <td>10</td>\n",
              "      <td>27.8</td>\n",
              "    </tr>\n",
              "    <tr>\n",
              "      <th>17</th>\n",
              "      <td>도봉구</td>\n",
              "      <td>21</td>\n",
              "      <td>4</td>\n",
              "      <td>16.0</td>\n",
              "    </tr>\n",
              "    <tr>\n",
              "      <th>23</th>\n",
              "      <td>강북구</td>\n",
              "      <td>16</td>\n",
              "      <td>6</td>\n",
              "      <td>27.3</td>\n",
              "    </tr>\n",
              "  </tbody>\n",
              "</table>\n",
              "</div>"
            ],
            "text/plain": [
              "       구  영업  폐업  폐업비율\n",
              "1    송파구  49  20  29.0\n",
              "4    강서구  34  13  27.7\n",
              "6    은평구  33   6  15.4\n",
              "8    구로구  30  10  25.0\n",
              "12  동대문구  27   5  15.6\n",
              "15   성동구  26  10  27.8\n",
              "17   도봉구  21   4  16.0\n",
              "23   강북구  16   6  27.3"
            ]
          },
          "execution_count": 276,
          "metadata": {},
          "output_type": "execute_result"
        }
      ],
      "source": [
        "# [4-37] temp2에서 폐업비율 하위 30%인 곳을 구하시오.\n",
        "value = temp2['폐업비율'].quantile(0.3)\n",
        "temp2.loc[temp2['폐업비율'] <= value,]"
      ]
    },
    {
      "cell_type": "code",
      "execution_count": 338,
      "metadata": {
        "id": "VPHFFnl_vPyo"
      },
      "outputs": [
        {
          "data": {
            "text/html": [
              "<div>\n",
              "<style scoped>\n",
              "    .dataframe tbody tr th:only-of-type {\n",
              "        vertical-align: middle;\n",
              "    }\n",
              "\n",
              "    .dataframe tbody tr th {\n",
              "        vertical-align: top;\n",
              "    }\n",
              "\n",
              "    .dataframe thead th {\n",
              "        text-align: right;\n",
              "    }\n",
              "</style>\n",
              "<table border=\"1\" class=\"dataframe\">\n",
              "  <thead>\n",
              "    <tr style=\"text-align: right;\">\n",
              "      <th></th>\n",
              "      <th>구</th>\n",
              "      <th>영업</th>\n",
              "      <th>폐업</th>\n",
              "      <th>폐업비율</th>\n",
              "    </tr>\n",
              "  </thead>\n",
              "  <tbody>\n",
              "    <tr>\n",
              "      <th>24</th>\n",
              "      <td>종로구</td>\n",
              "      <td>12</td>\n",
              "      <td>12</td>\n",
              "      <td>50.0</td>\n",
              "    </tr>\n",
              "    <tr>\n",
              "      <th>11</th>\n",
              "      <td>강동구</td>\n",
              "      <td>28</td>\n",
              "      <td>25</td>\n",
              "      <td>47.2</td>\n",
              "    </tr>\n",
              "    <tr>\n",
              "      <th>20</th>\n",
              "      <td>광진구</td>\n",
              "      <td>19</td>\n",
              "      <td>16</td>\n",
              "      <td>45.7</td>\n",
              "    </tr>\n",
              "    <tr>\n",
              "      <th>22</th>\n",
              "      <td>금천구</td>\n",
              "      <td>17</td>\n",
              "      <td>14</td>\n",
              "      <td>45.2</td>\n",
              "    </tr>\n",
              "    <tr>\n",
              "      <th>18</th>\n",
              "      <td>용산구</td>\n",
              "      <td>20</td>\n",
              "      <td>16</td>\n",
              "      <td>44.4</td>\n",
              "    </tr>\n",
              "  </tbody>\n",
              "</table>\n",
              "</div>"
            ],
            "text/plain": [
              "      구  영업  폐업  폐업비율\n",
              "24  종로구  12  12  50.0\n",
              "11  강동구  28  25  47.2\n",
              "20  광진구  19  16  45.7\n",
              "22  금천구  17  14  45.2\n",
              "18  용산구  20  16  44.4"
            ]
          },
          "execution_count": 338,
          "metadata": {},
          "output_type": "execute_result"
        }
      ],
      "source": [
        "# [4-38] temp2에서 폐업비율 상위 20%인 곳을 구하시오.\n",
        "value = temp2['폐업비율'].quantile(0.8)\n",
        "aaa = temp2.loc[temp2['폐업비율'] >= value,]\n",
        "aaa.sort_values('폐업비율', ascending=False)"
      ]
    },
    {
      "cell_type": "markdown",
      "metadata": {
        "id": "bVkukwldi3Dd"
      },
      "source": [
        "### 3-8.시각화"
      ]
    },
    {
      "cell_type": "code",
      "execution_count": null,
      "metadata": {
        "id": "_6wEnrdWNp_9"
      },
      "outputs": [],
      "source": [
        "## 그래프만 그리는 경우 목차에서 1, 2 번 + DataFrame 만들기 수행하신 뒤 다음을 수행하시면 됩니다."
      ]
    },
    {
      "cell_type": "code",
      "execution_count": null,
      "metadata": {
        "id": "rGkGGl3fNrPw"
      },
      "outputs": [
        {
          "data": {
            "text/html": [
              "<div>\n",
              "<style scoped>\n",
              "    .dataframe tbody tr th:only-of-type {\n",
              "        vertical-align: middle;\n",
              "    }\n",
              "\n",
              "    .dataframe tbody tr th {\n",
              "        vertical-align: top;\n",
              "    }\n",
              "\n",
              "    .dataframe thead th {\n",
              "        text-align: right;\n",
              "    }\n",
              "</style>\n",
              "<table border=\"1\" class=\"dataframe\">\n",
              "  <thead>\n",
              "    <tr style=\"text-align: right;\">\n",
              "      <th></th>\n",
              "      <th>영업</th>\n",
              "      <th>폐업</th>\n",
              "    </tr>\n",
              "    <tr>\n",
              "      <th>구명</th>\n",
              "      <th></th>\n",
              "      <th></th>\n",
              "    </tr>\n",
              "  </thead>\n",
              "  <tbody>\n",
              "    <tr>\n",
              "      <th>강남구</th>\n",
              "      <td>59</td>\n",
              "      <td>28</td>\n",
              "    </tr>\n",
              "    <tr>\n",
              "      <th>송파구</th>\n",
              "      <td>49</td>\n",
              "      <td>20</td>\n",
              "    </tr>\n",
              "    <tr>\n",
              "      <th>서초구</th>\n",
              "      <td>38</td>\n",
              "      <td>24</td>\n",
              "    </tr>\n",
              "    <tr>\n",
              "      <th>영등포구</th>\n",
              "      <td>37</td>\n",
              "      <td>22</td>\n",
              "    </tr>\n",
              "    <tr>\n",
              "      <th>강서구</th>\n",
              "      <td>34</td>\n",
              "      <td>13</td>\n",
              "    </tr>\n",
              "  </tbody>\n",
              "</table>\n",
              "</div>"
            ],
            "text/plain": [
              "      영업  폐업\n",
              "구명          \n",
              "강남구   59  28\n",
              "송파구   49  20\n",
              "서초구   38  24\n",
              "영등포구  37  22\n",
              "강서구   34  13"
            ]
          },
          "execution_count": 52,
          "metadata": {},
          "output_type": "execute_result"
        }
      ],
      "source": [
        "# [4-39] 파리바게트의 구별 영업, 폐점장 수 구하기\n",
        "paris = bread.loc[bread['사업장명'].str.contains('파리바게'), :]\n",
        "data = pd.DataFrame()\n",
        "data['영업'] = paris.loc[paris['상태코드']==1, '구명'].value_counts().to_frame()\n",
        "data['폐업'] = paris.loc[paris['상태코드']==2, '구명'].value_counts()\n",
        "data.head()"
      ]
    },
    {
      "cell_type": "code",
      "execution_count": 53,
      "metadata": {
        "colab": {
          "base_uri": "https://localhost:8080/",
          "height": 365
        },
        "id": "_k0URc4E_WnS",
        "outputId": "325acf3c-8bc7-4945-c697-4d0f76a4db6c"
      },
      "outputs": [],
      "source": [
        "# [4-40] 누적 bar 그래프 그리기\n",
        "import koreanize_matplotlib\n",
        "\n"
      ]
    },
    {
      "cell_type": "code",
      "execution_count": 54,
      "metadata": {
        "colab": {
          "base_uri": "https://localhost:8080/"
        },
        "id": "aXWtEa3ye7Zo",
        "outputId": "84e3456d-3bba-4617-f097-54e3bbbd04ca"
      },
      "outputs": [],
      "source": [
        "# [4-41] bread를 사용하여 은평구에서 영업 중인 동별 빵집 개수를 구해 봅니다\n"
      ]
    },
    {
      "cell_type": "code",
      "execution_count": 55,
      "metadata": {
        "colab": {
          "base_uri": "https://localhost:8080/",
          "height": 284
        },
        "id": "guXvCwJijHie",
        "outputId": "30a5bf41-6010-4c06-d444-9a1a22244751"
      },
      "outputs": [],
      "source": [
        "# [4-42] 은평구의 동별 빵집 개수를 그래프로 표시해 봅니다.\n"
      ]
    },
    {
      "cell_type": "code",
      "execution_count": 56,
      "metadata": {
        "colab": {
          "base_uri": "https://localhost:8080/",
          "height": 266
        },
        "id": "asMh8F-oKTii",
        "outputId": "714ddaa3-9138-40a8-dbcf-8416f473f9db"
      },
      "outputs": [],
      "source": [
        "# [4-43] 은평구의 동별 빵집 비율을 원행 그래프로 표시해 봅니다.\n",
        "\n"
      ]
    },
    {
      "cell_type": "code",
      "execution_count": 57,
      "metadata": {
        "id": "BCUWPk11KjAr"
      },
      "outputs": [
        {
          "data": {
            "text/plain": [
              "'파리바게뜨, 은평구 성공적!'"
            ]
          },
          "execution_count": 57,
          "metadata": {},
          "output_type": "execute_result"
        }
      ],
      "source": [
        "\"파리바게뜨, 은평구 성공적!\""
      ]
    }
  ],
  "metadata": {
    "colab": {
      "provenance": [],
      "toc_visible": true
    },
    "kernelspec": {
      "display_name": "Python 3",
      "name": "python3"
    },
    "language_info": {
      "codemirror_mode": {
        "name": "ipython",
        "version": 3
      },
      "file_extension": ".py",
      "mimetype": "text/x-python",
      "name": "python",
      "nbconvert_exporter": "python",
      "pygments_lexer": "ipython3",
      "version": "3.11.5"
    }
  },
  "nbformat": 4,
  "nbformat_minor": 0
}
